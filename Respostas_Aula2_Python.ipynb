{
  "nbformat": 4,
  "nbformat_minor": 0,
  "metadata": {
    "colab": {
      "provenance": [],
      "name": "Respostas_Aula2_Python",
      "include_colab_link": true
    },
    "kernelspec": {
      "name": "python3",
      "display_name": "Python 3"
    },
    "language_info": {
      "name": "python"
    }
  },
  "cells": [
    {
      "cell_type": "markdown",
      "metadata": {
        "id": "view-in-github",
        "colab_type": "text"
      },
      "source": [
        "<a href=\"https://colab.research.google.com/github/Giovana979/POO/blob/main/Respostas_Aula2_Python.ipynb\" target=\"_parent\"><img src=\"https://colab.research.google.com/assets/colab-badge.svg\" alt=\"Open In Colab\"/></a>"
      ]
    },
    {
      "cell_type": "markdown",
      "source": [
        "**Objetivo da Aula**\n",
        "\n",
        "* Introduzir o conceito de estruturas de decisão.\n",
        "* Ensinar como utilizar a estrutura if-else e if-else aninhados para tomar decisões em um programa Python.\n",
        "*Praticar a criação de programas simples que utilizam if-else e if-else aninhados.\n",
        "\n",
        "**Conteúdo Programático**\n",
        "\n",
        "**Introdução à Estrutura de Decisão**\n",
        "\n",
        "O que são estruturas de decisão?\n",
        "Importância das estruturas de decisão em programação.\n",
        "Exemplos do mundo real: tomadas de decisão.\n",
        "\n",
        "\n",
        "**Conceito da Estrutura if**\n",
        "\n",
        "**Sintaxe básica do if.**\n",
        "\n",
        "Como o Python avalia expressões condicionais (verdadeiras ou falsas).\n",
        "\n",
        "**Exemplos simples de if em Python.**"
      ],
      "metadata": {
        "id": "8Rz2WnP9D68d"
      }
    },
    {
      "cell_type": "code",
      "execution_count": null,
      "metadata": {
        "colab": {
          "base_uri": "https://localhost:8080/"
        },
        "id": "krcy3WQSD15_",
        "outputId": "67910b2d-1199-4083-ce20-282b917db3ec"
      },
      "outputs": [
        {
          "output_type": "stream",
          "name": "stdout",
          "text": [
            "x é maior que 5\n"
          ]
        }
      ],
      "source": [
        "x = 10\n",
        "if x > 5:\n",
        "    print(\"x é maior que 5\")"
      ]
    },
    {
      "cell_type": "markdown",
      "source": [
        "**Estrutura else**\n",
        "\n",
        "* Como adicionar uma alternativa usando else.\n",
        "* Sintaxe e funcionamento do else.\n",
        "* Exemplos práticos"
      ],
      "metadata": {
        "id": "RnrxWAt1F7GU"
      }
    },
    {
      "cell_type": "code",
      "source": [
        "x = 3\n",
        "if x > 5:\n",
        "    print(\"x é maior que 5\")\n",
        "else:\n",
        "    print(\"x é menor ou igual a 5\")"
      ],
      "metadata": {
        "colab": {
          "base_uri": "https://localhost:8080/"
        },
        "id": "Ju8eNcP9GJEi",
        "outputId": "bb240e59-a30e-4471-dcbc-8717947470a2"
      },
      "execution_count": null,
      "outputs": [
        {
          "output_type": "stream",
          "name": "stdout",
          "text": [
            "x é menor ou igual a 5\n"
          ]
        }
      ]
    },
    {
      "cell_type": "markdown",
      "source": [
        "**Uso do elif**\n",
        "\n",
        "* Introdução ao elif (else if).\n",
        "* Quando utilizar o elif.\n",
        "* Estrutura condicional com múltiplos casos"
      ],
      "metadata": {
        "id": "FalRnd_nGQpo"
      }
    },
    {
      "cell_type": "code",
      "source": [
        "x = 7\n",
        "if x > 10:\n",
        "    print(\"x é maior que 10\")\n",
        "elif x > 5:\n",
        "    print(\"x é maior que 5, mas menor ou igual a 10\")\n",
        "else:\n",
        "    print(\"x é menor ou igual a 5\")"
      ],
      "metadata": {
        "colab": {
          "base_uri": "https://localhost:8080/"
        },
        "id": "ybVylSxeGUSg",
        "outputId": "a0d07ab5-cc8a-47a8-fd34-1862943ebf48"
      },
      "execution_count": null,
      "outputs": [
        {
          "output_type": "stream",
          "name": "stdout",
          "text": [
            "x é maior que 5, mas menor ou igual a 10\n"
          ]
        }
      ]
    },
    {
      "cell_type": "markdown",
      "source": [
        "**Estruturas de Decisão Aninhadas**\n",
        "\n",
        "* O que é if-else aninhado?\n",
        "* Definição: Colocar uma estrutura if-else dentro de outra.\n",
        "* Quando e por que usar if-else aninhado.\n",
        "\n",
        "**Sintaxe e Funcionamento**\n",
        "* Demonstração de como construir um if-else aninhado.\n",
        "* Exemplos Práticos de if-else Aninhado"
      ],
      "metadata": {
        "id": "wNHTxPFrGf9P"
      }
    },
    {
      "cell_type": "code",
      "source": [
        "nota = 7\n",
        "faltas = 3\n",
        "if nota >= 6:\n",
        "    if faltas <= 5:\n",
        "        print(\"Aprovado\")\n",
        "    else:\n",
        "        print(\"Reprovado por faltas\")\n",
        "else:\n",
        "    print(\"Reprovado por nota\")\n"
      ],
      "metadata": {
        "colab": {
          "base_uri": "https://localhost:8080/"
        },
        "id": "9Wouv4jkHsWc",
        "outputId": "58659a93-66d3-486b-8b5a-34033a331811"
      },
      "execution_count": null,
      "outputs": [
        {
          "output_type": "stream",
          "name": "stdout",
          "text": [
            "Aprovado\n"
          ]
        }
      ]
    },
    {
      "cell_type": "markdown",
      "source": [
        "**Aplicações Práticas**\n",
        "\n",
        "* Exemplo 1: Verificar se um número é par ou ímpar.\n",
        "* Exemplo 2: Verificar a faixa etária de uma pessoa.\n",
        "* Exemplo 3: Simulação de um simples sistema de login"
      ],
      "metadata": {
        "id": "4XGPTlV_H7WD"
      }
    },
    {
      "cell_type": "code",
      "source": [
        "# Exemplo de número par ou ímpar\n",
        "numero = int(input(\"Digite um número: \"))\n",
        "if numero % 2 == 0:\n",
        "    print(\"O número é par.\")\n",
        "else:\n",
        "    print(\"O número é ímpar.\")\n"
      ],
      "metadata": {
        "id": "k7-5UFpwIAlp"
      },
      "execution_count": null,
      "outputs": []
    },
    {
      "cell_type": "markdown",
      "source": [
        "**Prática Guiada**\n",
        "\n",
        "* Atividade 1: Escreva um programa que classifique uma nota de 0 a 100 em \"Aprovado\" ou \"Reprovado\" usando if-else.\n",
        "* Atividade 2: Crie um programa que peça ao usuário para inserir um número e informe se ele é positivo, negativo ou zero.\n",
        "* Atividade 3: Usando if-else aninhado, crie um programa que peça ao usuário para inserir sua idade e sua nota em um teste. Informe se ele pode participar de uma atividade especial (exemplo: se for maior de 18 anos e a nota for maior que 70)."
      ],
      "metadata": {
        "id": "nXbuV0S4IJFh"
      }
    },
    {
      "cell_type": "markdown",
      "source": [],
      "metadata": {
        "id": "rvURF14pRUIQ"
      }
    },
    {
      "cell_type": "markdown",
      "source": [
        "Atividade 1: Escreva um programa que classifique uma nota de 0 a 100 em \"Aprovado\" ou \"Reprovado\" usando if-else."
      ],
      "metadata": {
        "id": "yKU8nD7gHdFC"
      }
    },
    {
      "cell_type": "code",
      "source": [
        "nota = int(input (\"Escreva sua nota: \"))\n",
        "\n",
        "if nota >= 50:\n",
        "  print(\"Aprovado\")\n",
        "else:\n",
        "  print(\"Reprovado\")"
      ],
      "metadata": {
        "id": "v7ruQtvUHeBz",
        "colab": {
          "base_uri": "https://localhost:8080/"
        },
        "outputId": "48a83cd2-0096-48cf-8e04-3c3b9731c8b1"
      },
      "execution_count": null,
      "outputs": [
        {
          "output_type": "stream",
          "name": "stdout",
          "text": [
            "Escreva sua nota: 60\n",
            "Aprovado\n"
          ]
        }
      ]
    },
    {
      "cell_type": "markdown",
      "source": [
        "Atividade 2: Crie um programa que peça ao usuário para inserir um número e informe se ele é positivo, negativo ou zero."
      ],
      "metadata": {
        "id": "X7Pt5j6gIuQv"
      }
    },
    {
      "cell_type": "code",
      "source": [
        "numero = int(input(\"Insira um número: \"))\n",
        "\n",
        "if numero > 0:\n",
        "  print(\"Positivo\")\n",
        "elif numero < 0:\n",
        "  print(\"Negativo\")\n",
        "else:\n",
        "  print(\"Zero\")"
      ],
      "metadata": {
        "colab": {
          "base_uri": "https://localhost:8080/"
        },
        "id": "pu5eJ2zyIu01",
        "outputId": "3cc11a7d-3fdd-44b1-bf7c-b8a05685c5d5"
      },
      "execution_count": null,
      "outputs": [
        {
          "output_type": "stream",
          "name": "stdout",
          "text": [
            "Insira um número: 0\n",
            "Zero\n"
          ]
        }
      ]
    },
    {
      "cell_type": "markdown",
      "source": [
        "Atividade 3: Usando if-else aninhado, crie um programa que peça ao usuário para inserir sua idade e sua nota em um teste. Informe se ele pode participar de uma atividade especial (exemplo: se for maior de 18 anos e a nota for maior que 70)."
      ],
      "metadata": {
        "id": "8GJavZjJJYDN"
      }
    },
    {
      "cell_type": "code",
      "source": [
        "idade = int(input(\"Insira sua idade: \"))\n",
        "nota = int(input(\"Insira sua nota: \"))\n",
        "\n",
        "if idade >= 18:\n",
        "  if nota >= 70:\n",
        "      print(\"Pode participar\")\n",
        "  else:\n",
        "      print(\"Sua nota não permite sua participação\")\n",
        "else:\n",
        "  print(\"Não pode participar\")"
      ],
      "metadata": {
        "colab": {
          "base_uri": "https://localhost:8080/"
        },
        "id": "b0tpIbh_JYdU",
        "outputId": "a464dfac-70cf-4541-d081-d3fbe950127b"
      },
      "execution_count": 3,
      "outputs": [
        {
          "output_type": "stream",
          "name": "stdout",
          "text": [
            "Insira sua idade: 5\n",
            "Insira sua nota: 80\n",
            "Não pode participar\n"
          ]
        }
      ]
    },
    {
      "cell_type": "markdown",
      "source": [
        "**Lista de Exercicio**\n",
        "\n",
        "1. Receba dois números do usuário e mostre qual deles é o maior.\n",
        "\n",
        "2. Solicite a idade do usuário e informe se ele é menor de idade, maior de idade ou idoso (considerando 18 e 65 anos como limites).\n",
        "\n",
        "3. Peça ao usuário para inserir a idade de uma pessoa e classifique-a como \"Criança\" (0-12 anos), \"Adolescente\" (13-17 anos), \"Adulto\" (18-64 anos) ou \"Idoso\" (65+ anos).\n",
        "\n",
        "4. Escreva um programa que receba um número e informe se ele é divisível por 3, por 5, por ambos ou por nenhum.\n",
        "\n",
        "5. Crie uma calculadora simples que permita ao usuário escolher uma operação (adição, subtração, multiplicação ou divisão) e dois números, e então exiba o resultado.\n",
        "\n",
        "6. Peça um número ao usuário e informe se ele é par ou ímpar, e se está entre 1 e 100.\n",
        "\n",
        "7. Crie um programa que simule um sistema de login. Solicite um nome de usuário e senha e verifique se as credenciais estão corretas.\n",
        "\n",
        "8. Receba a nota de um aluno e classifique-a como A (90-100), B (80-89), C (70-79), D (60-69), ou F (menos de 60).\n",
        "\n",
        "9. Peça ao usuário seu peso e altura, calcule o Índice de Massa Corporal (IMC) e classifique-o como \"Abaixo do peso\", \"Peso normal\", \"Sobrepeso\" ou \"Obesidade\".\n",
        "\n",
        "10. Solicite o preço de um produto e aplique um desconto de 10% se o preço for maior que R$ 100. Exiba o valor final.\n",
        "\n",
        "11. Desenvolva um programa que permita ao usuário escolher uma operação (saque, depósito) e simule o comportamento de um caixa eletrônico com validações básicas (ex.: saldo insuficiente para saque).\n",
        "\n",
        "12. Escreva um programa que calcule a média ponderada de um conjunto de notas. Peça ao usuário as notas e os pesos correspondentes. Use if-else para verificar se o peso total é igual a 100%.\n",
        "\n",
        "\n",
        "\n",
        "**Desafio: Jogo de Adivinhação**\n",
        "\n",
        "Desenvolva um jogo de adivinhação onde o programa escolhe um número aleatório entre 1 e 100, e o usuário tem que adivinhar o número. Para cada palpite, o programa deve informar se o número é maior ou menor do que o palpite. Se o usuário acertar, o programa deve parabenizá-lo e mostrar quantas tentativas foram necessárias.\n",
        "\n"
      ],
      "metadata": {
        "id": "cBXUbbxzD-HQ"
      }
    },
    {
      "cell_type": "markdown",
      "source": [
        "**1 -**Receba dois números do usuário e mostre qual deles é o maior."
      ],
      "metadata": {
        "id": "0IHeGNR0OOzF"
      }
    },
    {
      "cell_type": "code",
      "source": [
        "num1 = int (input(\"Insira um número: \"))\n",
        "num2 = int (input(\"Insira outro número: \"))\n",
        "\n",
        "if num1 > num2:\n",
        "  print(f\"Primeiro número = {num1} é maior!\")\n",
        "else:\n",
        "  print(f\"Segundo número = {num2} é maior!\")"
      ],
      "metadata": {
        "colab": {
          "base_uri": "https://localhost:8080/"
        },
        "id": "O3h3zgfAOPcU",
        "outputId": "46fec0ec-d30c-42d0-f00d-b6f9e940b1de"
      },
      "execution_count": 9,
      "outputs": [
        {
          "output_type": "stream",
          "name": "stdout",
          "text": [
            "Insira um número: 50\n",
            "Insira outro número: 1\n",
            "Primeiro número = 50 é maior!\n"
          ]
        }
      ]
    },
    {
      "cell_type": "markdown",
      "source": [
        "**2 -** Solicite a idade do usuário e informe se ele é menor de idade, maior de idade ou idoso (considerando 18 e 65 anos como limites)."
      ],
      "metadata": {
        "id": "eXFC6TJXSjc9"
      }
    },
    {
      "cell_type": "code",
      "source": [
        "idade = int(input(\"Insira sua idade: \"))\n",
        "\n",
        "if idade >=18 and idade <=65:\n",
        "  print(\"Você é maior de idade\")\n",
        "else:\n",
        "  print(\"Você é de menor\")\n",
        "\n"
      ],
      "metadata": {
        "colab": {
          "base_uri": "https://localhost:8080/"
        },
        "id": "oVyW88SwSuyQ",
        "outputId": "beaa628d-6412-42d2-bf23-b62d5866dd3a"
      },
      "execution_count": 14,
      "outputs": [
        {
          "output_type": "stream",
          "name": "stdout",
          "text": [
            "Insira sua idade: 5\n",
            "Você é de menor\n"
          ]
        }
      ]
    },
    {
      "cell_type": "markdown",
      "source": [
        "**3 -** Peça ao usuário para inserir a idade de uma pessoa e classifique-a como \"Criança\" (0-12 anos), \"Adolescente\" (13-17 anos), \"Adulto\" (18-64 anos) ou \"Idoso\" (65+ anos)."
      ],
      "metadata": {
        "id": "nzuCWP3QTx6O"
      }
    },
    {
      "cell_type": "code",
      "source": [
        "idade = int(input(\"Insira sua idade: \"))\n",
        "\n",
        "if idade >= 65:\n",
        "  print(f\"Sua idade é IDOSO {idade}\")\n",
        "elif idade >= 18 and idade <= 64:\n",
        "  print(f\"Sua idade é ADULTO {idade}\")\n",
        "elif idade >= 13 and idade <= 17:\n",
        "  print(f\"Você é ADOLESCENTE {idade}\")\n",
        "else:\n",
        "  print(f\"Você é CRIANÇA {idade}\")"
      ],
      "metadata": {
        "colab": {
          "base_uri": "https://localhost:8080/"
        },
        "id": "xpLXK4P8Tzkh",
        "outputId": "ba9bd98a-78cf-46f7-e298-5e77ad8f64aa"
      },
      "execution_count": 23,
      "outputs": [
        {
          "output_type": "stream",
          "name": "stdout",
          "text": [
            "Insira sua idade: 64\n",
            "Sua idade é ADULTO 64\n"
          ]
        }
      ]
    },
    {
      "cell_type": "markdown",
      "source": [
        "**4 -**Escreva um programa que receba um número e informe se ele é divisível por 3, por 5, por ambos ou por nenhum."
      ],
      "metadata": {
        "id": "GbCjOpmvWesX"
      }
    },
    {
      "cell_type": "code",
      "source": [
        "num = int(input(\"Insira um número: \"))\n",
        "\n",
        "if (num % 3) == 0 and (num % 5) == 0:\n",
        "  print(f\"O número {num} é divisivel por 3 e 5\")\n",
        "elif (num % 3) == 0:\n",
        "  print(f\"O número {num} é divisivel por 3\")\n",
        "elif (num % 5) == 0:\n",
        "  print(f\"O número {num} é divisivel por 5\")\n",
        "else:\n",
        "  print(\"Não é divisivel por 3 nem 5\")\n"
      ],
      "metadata": {
        "colab": {
          "base_uri": "https://localhost:8080/"
        },
        "id": "VGsWt1dnWb4r",
        "outputId": "216186d7-57d9-4824-bffc-9162f3105fc2"
      },
      "execution_count": 27,
      "outputs": [
        {
          "output_type": "stream",
          "name": "stdout",
          "text": [
            "Insira um número: 4\n",
            "Não é divisivel por 3 nem 5\n"
          ]
        }
      ]
    },
    {
      "cell_type": "markdown",
      "source": [
        "**5 -**Crie uma calculadora simples que permita ao usuário escolher uma operação (adição, subtração, multiplicação ou divisão) e dois números, e então exiba o resultado."
      ],
      "metadata": {
        "id": "UjsIBszFZX_u"
      }
    },
    {
      "cell_type": "code",
      "source": [
        "num1 = int(input(\"Insira um número: \"))\n",
        "num2 = int(input(\"Insira mais um número: \"))\n",
        "\n",
        "print(\"1 - Adição\")\n",
        "print(\"2 - Subtração\")\n",
        "print(\"3 - Multipliação\")\n",
        "print(\"4 - Divisão\")\n",
        "op = int(input(\"Insira a operação: \"))\n",
        "\n",
        "soma = num1 + num2\n",
        "sub = num1 - num2\n",
        "mult = num1 * num2\n",
        "div = num1 / num2\n",
        "\n",
        "if op == 1:\n",
        "  print(f\"A Soma de {num1} e {num2} é {soma}\")\n",
        "elif op == 2:\n",
        "  print(f\"A Subtração de {num1} e {num2} é {sub}\")\n",
        "elif op == 3:\n",
        "  print(f\"A Multiplicação de {num1} e {num2} é {mult}\")\n",
        "else:\n",
        "  print(f\"A Divisão de {num1} e {num2} é {div}\")\n"
      ],
      "metadata": {
        "colab": {
          "base_uri": "https://localhost:8080/"
        },
        "id": "f1JO4o7bZd90",
        "outputId": "28382fb9-1e61-46ef-c2a1-9d382045a5e4"
      },
      "execution_count": 32,
      "outputs": [
        {
          "output_type": "stream",
          "name": "stdout",
          "text": [
            "Insira um número: 8\n",
            "Insira mais um número: 8\n",
            "1 - Adição\n",
            "2 - Subtração\n",
            "3 - Multipliação\n",
            "4 - Divisão\n",
            "Insira a operação: 4\n",
            "A Divisão de 8 e 8 é 1.0\n"
          ]
        }
      ]
    },
    {
      "cell_type": "markdown",
      "source": [
        "**6 -**Peça um número ao usuário e informe se ele é par ou ímpar, e se está entre 1 e 100."
      ],
      "metadata": {
        "id": "xkSH4HmtbTzc"
      }
    },
    {
      "cell_type": "code",
      "source": [
        "num = int(input(\"Insira um número: \"))\n",
        "\n",
        "if (num % 2) == 0 and num >= 1 and num <=100 :\n",
        "  print(f\"O número {num} é par e está entre 1 e 100\")\n",
        "elif (num % 2) == 0 and num < 1 and num > 100 :\n",
        "  print(f\"O número {num} é par e NÃO está entre 1 e 100\")\n",
        "elif (num % 2) != 0 and num >= 1 and num <=100 :\n",
        "  print(f\"O número {num} é ímpar e está entre 1 e 100\")\n",
        "else:\n",
        "  print(f\"O número {num} é ímpar e NÃO está entre 1 e 100\")"
      ],
      "metadata": {
        "colab": {
          "base_uri": "https://localhost:8080/"
        },
        "id": "jzJhmXLabWGV",
        "outputId": "858d1414-e213-486a-d22a-46bfa764024d"
      },
      "execution_count": 46,
      "outputs": [
        {
          "output_type": "stream",
          "name": "stdout",
          "text": [
            "Insira um número: 89\n",
            "O número 89 é ímpar e está entre 1 e 100\n"
          ]
        }
      ]
    },
    {
      "cell_type": "markdown",
      "source": [
        "**7 - **Crie um programa que simule um sistema de login. Solicite um nome de usuário e senha e verifique se as credenciais estão corretas."
      ],
      "metadata": {
        "id": "Y4rMrsdCd6vh"
      }
    },
    {
      "cell_type": "code",
      "source": [
        "usu = str(input(\"USUÁRIO:           \"))\n",
        "senha = int(input(\"SENHA:           \"))\n",
        "\n",
        "if usu == \"Giovana9\" and senha == 1234:\n",
        "  print(\"Login realizado comm sucesso!\")\n",
        "else:\n",
        "  print(\"Tente novamente\")"
      ],
      "metadata": {
        "colab": {
          "base_uri": "https://localhost:8080/"
        },
        "id": "s8PBLvrzd8hm",
        "outputId": "bf4c1f89-2201-49ce-94ba-aa3d0cf0d98d"
      },
      "execution_count": 49,
      "outputs": [
        {
          "output_type": "stream",
          "name": "stdout",
          "text": [
            "USUÁRIO:           clebeu\n",
            "SENHA:           4567\n",
            "Tente novamente\n"
          ]
        }
      ]
    },
    {
      "cell_type": "markdown",
      "source": [
        "**8 -**Receba a nota de um aluno e classifique-a como A (90-100), B (80-89), C (70-79), D (60-69), ou F (menos de 60)."
      ],
      "metadata": {
        "id": "bpGWS7k4fPKM"
      }
    },
    {
      "cell_type": "code",
      "source": [
        "nota = int(input(\"Insira sua nota: \"))\n",
        "\n",
        "if nota >= 90 and nota <=100:\n",
        "  print(f\"Parabéns! Sua nota {nota} foi A\")\n",
        "elif nota >= 80 and nota <= 89:\n",
        "  print(f\"Parabéns! Sua nota {nota} foi B\")\n",
        "elif nota >=70 and nota <=79:\n",
        "  print(f\"Sua nota {nota} foi C\")\n",
        "elif nota >= 60 and nota <=69:\n",
        "  print(f\"Sua nota {nota} foi D\")\n",
        "else:\n",
        "  print(f\"Sua nota {nota} foi F\")"
      ],
      "metadata": {
        "colab": {
          "base_uri": "https://localhost:8080/"
        },
        "id": "5Pbn8CZufV5w",
        "outputId": "b3691706-7d05-43d8-cd03-2c248cb4daed"
      },
      "execution_count": 58,
      "outputs": [
        {
          "output_type": "stream",
          "name": "stdout",
          "text": [
            "Insira sua nota: 55\n",
            "Sua nota 55 foi F\n"
          ]
        }
      ]
    },
    {
      "cell_type": "markdown",
      "source": [
        "**9 -**Peça ao usuário seu peso e altura, calcule o Índice de Massa Corporal (IMC) e classifique-o como \"Abaixo do peso\", \"Peso normal\", \"Sobrepeso\" ou \"Obesidade\"."
      ],
      "metadata": {
        "id": "tbnSJsPZg2jq"
      }
    },
    {
      "cell_type": "code",
      "source": [
        "peso = int (input(\"Peso: \"))\n",
        "altura = float (input(\"Altura: \"))\n",
        "\n",
        "#IMC = Massa (kg) ÷ Altura (m)².\n",
        "IMC = peso / (altura ** 2)\n",
        "#Menor que 18,5 = abaixo do peso.\n",
        "if IMC < 18.5:\n",
        "  print(f\"Seu IMC = {IMC} Você está abaixo do peso!\")\n",
        "#Entre 18,5 e 24,9 = peso normal.\n",
        "elif IMC >= 18.5 and IMC <= 24.9:\n",
        "  print(f\"Seu IMC = {IMC} Você está com peso normal!\")\n",
        "#Entre 25 e 29,9 = sobrepeso.\n",
        "elif IMC >= 25 and IMC <= 29.9:\n",
        "  print(f\"Seu IMC = {IMC} Você está sobrepeso!\")\n",
        "#Entre 30 e 34,99 = obesidade grau I.\n",
        "elif IMC >= 30 and IMC <= 34.99:\n",
        "  print(f\"Seu IMC = {IMC} Você está com obesidade de Grau I\")\n",
        "#Entre 35 e 39,99 = obesidade grau II (severa).\n",
        "elif IMC >= 35 and IMC <= 39.99:\n",
        "  print(f\"Seu IMC = {IMC} Você está com obesidade de Grau II\")\n",
        "#Acima de 40 = obesidade grau III (mórbida).\n",
        "else:\n",
        "  print(f\"Seu IMC = {IMC} Você está com obesidade de Grau III\")\n"
      ],
      "metadata": {
        "colab": {
          "base_uri": "https://localhost:8080/"
        },
        "id": "BIIIa3mBg5Y_",
        "outputId": "12638510-b741-4edd-b5d4-450667faa513"
      },
      "execution_count": 67,
      "outputs": [
        {
          "output_type": "stream",
          "name": "stdout",
          "text": [
            "Peso: 80\n",
            "Altura: 1.80\n",
            "Seu IMC = 24.691358024691358 Você está com peso normal!\n"
          ]
        }
      ]
    },
    {
      "cell_type": "markdown",
      "source": [
        "**10 -**Solicite o preço de um produto e aplique um desconto de 10% se o preço for maior que R$ 100. Exiba o valor final."
      ],
      "metadata": {
        "id": "WEToLuEiLGb9"
      }
    },
    {
      "cell_type": "code",
      "source": [
        "preço = int(input(\"Insira o preço do produto: \"))\n",
        "\n",
        "d = preço-(preço*0.10)\n",
        "\n",
        "if preço > 100:\n",
        "  print(f\"O preço do produto com desconto é R${d}\")\n",
        "else:\n",
        "  print(f\"O valor continue o mesmo R${preço}\")"
      ],
      "metadata": {
        "colab": {
          "base_uri": "https://localhost:8080/"
        },
        "id": "2mbYF79lLXKg",
        "outputId": "dbb8d533-287c-4818-ba66-a0ceaadee02f"
      },
      "execution_count": 9,
      "outputs": [
        {
          "output_type": "stream",
          "name": "stdout",
          "text": [
            "Insira o preço do produto: 500\n",
            "O preço do produto com desconto é R$450.0\n"
          ]
        }
      ]
    },
    {
      "cell_type": "markdown",
      "source": [
        "**11 -** Desenvolva um programa que permita ao usuário escolher uma operação (saque, depósito) e simule o comportamento de um caixa eletrônico com validações básicas (ex.: saldo insuficiente para saque)."
      ],
      "metadata": {
        "id": "xJ1_4tmCNIfc"
      }
    },
    {
      "cell_type": "code",
      "source": [
        "print (\"1 - Saque\")\n",
        "print (\"2 - Depósito\")\n",
        "op = int(input(\"Escolha a operação: \"))\n",
        "\n",
        "\n",
        "if op == 1:\n",
        "  saque = int(input(\"insira o valor do saque: \"))\n",
        "  if saque >= 1000:\n",
        "    print(\"Saldo  insuficiente :(\")\n",
        "  else:\n",
        "    print(f\"Valor sacado R${saque}\")\n",
        "else:\n",
        "  dep = int(input(\"Insira o valor do depósito: \"))\n",
        "  print(f\"Valor depositado R${dep}\")"
      ],
      "metadata": {
        "colab": {
          "base_uri": "https://localhost:8080/"
        },
        "id": "VkXUIxBRNOLS",
        "outputId": "6a2ff90e-9b33-4c27-ae50-4db918794e56"
      },
      "execution_count": 5,
      "outputs": [
        {
          "output_type": "stream",
          "name": "stdout",
          "text": [
            "1 - Saque\n",
            "2 - Depósito\n",
            "Escolha a operação: 2\n",
            "Insira o valor do depósito: 10000\n",
            "Valor depositado R$10000\n"
          ]
        }
      ]
    }
  ]
}