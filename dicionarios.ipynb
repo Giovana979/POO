{
  "nbformat": 4,
  "nbformat_minor": 0,
  "metadata": {
    "colab": {
      "provenance": [],
      "authorship_tag": "ABX9TyOI+EBpBpuHeLmaQjTflhJX",
      "include_colab_link": true
    },
    "kernelspec": {
      "name": "python3",
      "display_name": "Python 3"
    },
    "language_info": {
      "name": "python"
    }
  },
  "cells": [
    {
      "cell_type": "markdown",
      "metadata": {
        "id": "view-in-github",
        "colab_type": "text"
      },
      "source": [
        "<a href=\"https://colab.research.google.com/github/WellingtonRoque/python/blob/main/dicionarios.ipynb\" target=\"_parent\"><img src=\"https://colab.research.google.com/assets/colab-badge.svg\" alt=\"Open In Colab\"/></a>"
      ]
    },
    {
      "cell_type": "code",
      "execution_count": null,
      "metadata": {
        "id": "BP-IjIPgTxlm"
      },
      "outputs": [],
      "source": []
    },
    {
      "cell_type": "markdown",
      "source": [
        "**Dicionarios**\n",
        "Em Python, um dicionário é uma estrutura de dados que permite armazenar pares chave-valor.\n",
        "Cada chave em um dicionário é única e está associada a um valor específico.\n",
        "Os dicionários são implementados como tabelas de hash, proporcionando acesso rápido e eficiente aos valores com base nas chaves.\n",
        "A principal característica dos dicionários é a capacidade de associar informações, permitindo que você recupere e manipule dados de maneira eficaz.\n",
        "A sintaxe básica para criar um dicionário em Python é utilizando chaves {} e separando cada par chave-valor por dois-pontos :\n",
        "Aqui está um exemplo simples:"
      ],
      "metadata": {
        "id": "qYyV5waYT1du"
      }
    },
    {
      "cell_type": "code",
      "source": [
        "meu_dicionario = {'nome1': 'Wellington', 'chave2': 'valor2', 'chave3': 'valor3'}\n",
        "print(meu_dicionario)"
      ],
      "metadata": {
        "colab": {
          "base_uri": "https://localhost:8080/"
        },
        "id": "dzkbAnKUWpim",
        "outputId": "b34927f6-bcc1-495d-b863-876b6d5fc3c2"
      },
      "execution_count": 30,
      "outputs": [
        {
          "output_type": "stream",
          "name": "stdout",
          "text": [
            "{'nome1': 'Wellington', 'chave2': 'valor2', 'chave3': 'valor3'}\n"
          ]
        }
      ]
    },
    {
      "cell_type": "markdown",
      "source": [
        "Neste exemplo, 'chave1', 'chave2' e 'chave3' são as chaves, e 'valor1', 'valor2' e 'valor3' são os valores associados a essas chaves, respectivamente.\n",
        "\n",
        "Você pode acessar os valores de um dicionário utilizando suas chaves:"
      ],
      "metadata": {
        "id": "cjHcMRHIW5Qc"
      }
    },
    {
      "cell_type": "code",
      "source": [
        "print(meu_dicionario['nome1'])  # Saída: valor1"
      ],
      "metadata": {
        "colab": {
          "base_uri": "https://localhost:8080/"
        },
        "id": "sXYrxjz2W6ZV",
        "outputId": "f0a87805-5414-46c0-c68a-075875447af6"
      },
      "execution_count": 31,
      "outputs": [
        {
          "output_type": "stream",
          "name": "stdout",
          "text": [
            "Wellington\n"
          ]
        }
      ]
    },
    {
      "cell_type": "markdown",
      "source": [
        "Os dicionários em Python são mutáveis, o que significa que você pode modificar, adicionar ou remover pares chave-valor depois de criá-los.\n",
        "Isso os torna uma escolha flexível e poderosa para diversas tarefas de programação, desde armazenar configurações até representar estruturas de dados mais complexas, como grafos."
      ],
      "metadata": {
        "id": "M6ZNrBvPXH5F"
      }
    },
    {
      "cell_type": "markdown",
      "source": [
        "Vamos a outro exemplo:\n",
        "e-mails de gerentes de loja"
      ],
      "metadata": {
        "id": "X3570mxAYdh0"
      }
    },
    {
      "cell_type": "code",
      "source": [
        "email_gerente = {\n",
        "    \"polo\": \"polo@gmail.com\",\n",
        "    \"jaragua\": \"jaragua@gmail.com\",\n",
        "    \"iguatemi\": \"iguatemi@gmail.com\"\n",
        "}"
      ],
      "metadata": {
        "id": "fAkKL6g4Yl7O"
      },
      "execution_count": 50,
      "outputs": []
    },
    {
      "cell_type": "markdown",
      "source": [
        "**Se eu quiser descobrir qual o e-mail do shopping \"polo\"**"
      ],
      "metadata": {
        "id": "-3LSCAn7ZEt8"
      }
    },
    {
      "cell_type": "code",
      "source": [
        "email = email_gerente[\"polo\"]\n",
        "print(email)"
      ],
      "metadata": {
        "colab": {
          "base_uri": "https://localhost:8080/"
        },
        "id": "hGKqIp7cZSTY",
        "outputId": "7075bd27-a3ee-4f70-c87f-2e894d4ac48c"
      },
      "execution_count": 22,
      "outputs": [
        {
          "output_type": "stream",
          "name": "stdout",
          "text": [
            "polo@gmail.com\n"
          ]
        }
      ]
    },
    {
      "cell_type": "markdown",
      "source": [
        "**Se eu quiser adicionar um shopping novo**"
      ],
      "metadata": {
        "id": "JbJkzlpeZ5jl"
      }
    },
    {
      "cell_type": "code",
      "source": [
        "email_gerente[\"dompedro\"] = \"dompedro@gmail.com\"\n",
        "print(email_gerente)"
      ],
      "metadata": {
        "colab": {
          "base_uri": "https://localhost:8080/"
        },
        "id": "6NKyVR21Z_S8",
        "outputId": "2d885619-b44a-4f8e-b05c-27e60b8631e2"
      },
      "execution_count": 43,
      "outputs": [
        {
          "output_type": "stream",
          "name": "stdout",
          "text": [
            "{'polo': 'polo@gmail.com', 'jaragua': 'jaragua@gmail.com', 'iguatemi': 'iguatemi@gmail.com', 'dompedro': 'dompedro@gmail.com'}\n"
          ]
        }
      ]
    },
    {
      "cell_type": "markdown",
      "source": [
        "**Se eu quiser descobrir todos os shopping que temos?**"
      ],
      "metadata": {
        "id": "ZukgVzM9aeE9"
      }
    },
    {
      "cell_type": "code",
      "source": [
        "#forma 1: fazer um for\n",
        "for shopping in email_gerente:\n",
        "  print(shopping)"
      ],
      "metadata": {
        "colab": {
          "base_uri": "https://localhost:8080/"
        },
        "id": "ki7_oq8eax1d",
        "outputId": "c60272a0-0362-464f-d0f4-74eee004bf18"
      },
      "execution_count": 40,
      "outputs": [
        {
          "output_type": "stream",
          "name": "stdout",
          "text": [
            "polo\n",
            "iguatemi\n"
          ]
        }
      ]
    },
    {
      "cell_type": "code",
      "source": [
        "#forma 2: dicionario.keys()\n",
        "print(email_gerente.keys())\n"
      ],
      "metadata": {
        "colab": {
          "base_uri": "https://localhost:8080/"
        },
        "id": "2H3BlyI1bJkU",
        "outputId": "9bcb7586-2cae-4269-e76a-915746c3f85c"
      },
      "execution_count": 28,
      "outputs": [
        {
          "output_type": "stream",
          "name": "stdout",
          "text": [
            "dict_keys(['polo', 'jaragua', 'iguatemi', 'dompedro'])\n"
          ]
        }
      ]
    },
    {
      "cell_type": "markdown",
      "source": [
        "**Se eu quiser todos os e-mails?**"
      ],
      "metadata": {
        "id": "Ph5jKPElbi18"
      }
    },
    {
      "cell_type": "code",
      "source": [
        "#forma 1: fazer um for\n",
        "for shopping in email_gerente:\n",
        "  email = email_gerente[shopping]\n",
        "  print(email)"
      ],
      "metadata": {
        "colab": {
          "base_uri": "https://localhost:8080/"
        },
        "id": "Hi7pQ0Nqbnw9",
        "outputId": "250c153b-d940-40a2-db38-1aa7d3417cee"
      },
      "execution_count": 29,
      "outputs": [
        {
          "output_type": "stream",
          "name": "stdout",
          "text": [
            "polo@gmail.com\n",
            "jaragua@gmail.com\n",
            "iguatemi@gmail.com\n",
            "dompedro@gmail.com\n"
          ]
        }
      ]
    },
    {
      "cell_type": "code",
      "source": [
        "#forma 2: dicionarios.values\n",
        "print(email_gerente.values())"
      ],
      "metadata": {
        "colab": {
          "base_uri": "https://localhost:8080/"
        },
        "id": "XfTi0WVLdDVl",
        "outputId": "184df33b-8a01-433c-f638-faf17bf5deb0"
      },
      "execution_count": 32,
      "outputs": [
        {
          "output_type": "stream",
          "name": "stdout",
          "text": [
            "dict_values(['polo@gmail.com', 'jaragua@gmail.com', 'iguatemi@gmail.com', 'dompedro@gmail.com'])\n"
          ]
        }
      ]
    },
    {
      "cell_type": "markdown",
      "source": [
        "**Retirar um item (shopping)**"
      ],
      "metadata": {
        "id": "x5qKTebGdQzU"
      }
    },
    {
      "cell_type": "code",
      "source": [
        "#email_gerente.pop(\"jaragua\")\n",
        "print(email_gerente.values())"
      ],
      "metadata": {
        "colab": {
          "base_uri": "https://localhost:8080/"
        },
        "id": "F_BtqIAidYCE",
        "outputId": "a6c80ab4-314a-4f47-fb84-e1aa52f15a22"
      },
      "execution_count": 48,
      "outputs": [
        {
          "output_type": "stream",
          "name": "stdout",
          "text": [
            "dict_values(['polo@gmail.com', 'iguatemi@gmail.com', 'dompedro@gmail.com'])\n"
          ]
        }
      ]
    },
    {
      "cell_type": "markdown",
      "source": [
        "**Verificar se um shopping existe**"
      ],
      "metadata": {
        "id": "WNLllkG2eGyk"
      }
    },
    {
      "cell_type": "code",
      "source": [
        "if \"jaragua\" in email_gerente:\n",
        "  print(\"Existe\")\n",
        "else:\n",
        "  print(\"Não existe\")"
      ],
      "metadata": {
        "colab": {
          "base_uri": "https://localhost:8080/"
        },
        "id": "zT_NgxA9eNcl",
        "outputId": "1bdc0915-0269-4906-b45e-d3bfa89f3310"
      },
      "execution_count": 51,
      "outputs": [
        {
          "output_type": "stream",
          "name": "stdout",
          "text": [
            "Existe\n"
          ]
        }
      ]
    },
    {
      "cell_type": "markdown",
      "source": [
        " **lista de exercicios para fazer utilizando dicionarios em pyhon**"
      ],
      "metadata": {
        "id": "wOpOZeJaj7Ek"
      }
    },
    {
      "cell_type": "markdown",
      "source": [
        "***Programa que solicita ao usuário inserir nomes e notas de alunos,\n",
        "armazena essas informações em um dicionário e calcula a média das notas***"
      ],
      "metadata": {
        "id": "wo53wzcxldXK"
      }
    },
    {
      "cell_type": "code",
      "source": [
        "alunos_notas = {\n",
        "}\n",
        "nome = \"\"\n",
        "\n",
        "while nome != \"sair\":\n",
        "    nome = input(\"Digite o nome do aluno (ou 'sair' para encerrar): \")\n",
        "    if nome==\"sair\":\n",
        "        break\n",
        "    nota = float(input(\"Digite a nota do aluno: \"))\n",
        "\n",
        "    alunos_notas[nome] = nota\n",
        "\n",
        "print(alunos_notas.values())\n",
        "\n",
        "notas = list(alunos_notas.values())\n",
        "print(len(notas))\n",
        "\n",
        "media = sum(notas) / len(notas)\n",
        "\n",
        "# Exibe as notas e a média\n",
        "print(\"\\nNotas dos alunos:\")\n",
        "for aluno, nota in alunos_notas.items():\n",
        "    print(f\"{aluno}: {nota}\")\n",
        "\n",
        "print(f\"\\nMédia das notas: {media:.2f}\")s"
      ],
      "metadata": {
        "colab": {
          "base_uri": "https://localhost:8080/"
        },
        "id": "ZuFfOSH2y0bC",
        "outputId": "431ad969-5261-49a8-cc5c-736b42058cc6"
      },
      "execution_count": 52,
      "outputs": [
        {
          "output_type": "stream",
          "name": "stdout",
          "text": [
            "Digite o nome do aluno (ou 'sair' para encerrar): qa\n",
            "Digite a nota do aluno: 10\n",
            "Digite o nome do aluno (ou 'sair' para encerrar): rt\n",
            "Digite a nota do aluno: 10\n",
            "Digite o nome do aluno (ou 'sair' para encerrar): ui\n",
            "Digite a nota do aluno: 10\n",
            "Digite o nome do aluno (ou 'sair' para encerrar): air\n",
            "Digite a nota do aluno: 10\n",
            "Digite o nome do aluno (ou 'sair' para encerrar): sair\n",
            "dict_values([10.0, 10.0, 10.0, 10.0])\n",
            "4\n",
            "\n",
            "Notas dos alunos:\n",
            "qa: 10.0\n",
            "rt: 10.0\n",
            "ui: 10.0\n",
            "air: 10.0\n",
            "\n",
            "Média das notas: 10.00\n"
          ]
        }
      ]
    },
    {
      "cell_type": "markdown",
      "source": [
        "**Histórico de Compras:\n",
        "Crie um programa que mantém o histórico de compras de um cliente,\n",
        "armazenando itens comprados e suas quantidades em um dicionário.**"
      ],
      "metadata": {
        "id": "oqJKYnSv7NU_"
      }
    },
    {
      "cell_type": "code",
      "source": [
        "historico_compras = {\n",
        "\n",
        "}\n",
        "produto = \" \"\n",
        "\n",
        "while produto != \"sair\":\n",
        "    produto = input(\"Digite o nome do produto (ou 'sair' para encerrar): \")\n",
        "\n",
        "    if produto == \"sair\":\n",
        "        break\n",
        "    quantidade = int(input(\"Digite a quantidade comprada: \"))\n",
        "\n",
        "    # Atualiza o histórico de compras\n",
        "    if produto in historico_compras:\n",
        "        historico_compras[produto] += quantidade\n",
        "    else:\n",
        "        historico_compras[produto] = quantidade\n",
        "\n",
        "print(historico_compras.keys())\n",
        "print(historico_compras.values())\n",
        "\n",
        "# Exibe o histórico de compras\n",
        "if historico_compras:\n",
        "    print(\"\\nHistórico de Compras:\")\n",
        "    for produto, quantidade in historico_compras.items():\n",
        "        print(f\"{produto}: {quantidade} unidades\")\n",
        "else:\n",
        "    print(\"Nenhuma compra foi registrada.\")"
      ],
      "metadata": {
        "colab": {
          "base_uri": "https://localhost:8080/"
        },
        "id": "aXWTx0wt7r43",
        "outputId": "1b2ff611-9552-4460-dbc9-4728ea4aed88"
      },
      "execution_count": 55,
      "outputs": [
        {
          "output_type": "stream",
          "name": "stdout",
          "text": [
            "Digite o nome do produto (ou 'sair' para encerrar): qa\n",
            "Digite a quantidade comprada: 12\n",
            "Digite o nome do produto (ou 'sair' para encerrar): er\n",
            "Digite a quantidade comprada: 45\n",
            "Digite o nome do produto (ou 'sair' para encerrar): yu\n",
            "Digite a quantidade comprada: 67\n",
            "Digite o nome do produto (ou 'sair' para encerrar): sair\n",
            "dict_keys(['qa', 'er', 'yu'])\n",
            "dict_values([12, 45, 67])\n",
            "\n",
            "Histórico de Compras:\n",
            "qa: 12 unidades\n",
            "er: 45 unidades\n",
            "yu: 67 unidades\n"
          ]
        }
      ]
    },
    {
      "cell_type": "markdown",
      "source": [
        "**Lista de Exercicios**"
      ],
      "metadata": {
        "id": "swoQwjvLKiCZ"
      }
    },
    {
      "cell_type": "markdown",
      "source": [
        "**1 - Crie um sistema simples de controle de estoque, onde o usuário pode adicionar produtos, quantidades e verificar o estoque disponível.**\n",
        "\n"
      ],
      "metadata": {
        "id": "axwfV_p4KnoJ"
      }
    },
    {
      "cell_type": "code",
      "source": [],
      "metadata": {
        "id": "2Km75hFBK4Mb"
      },
      "execution_count": null,
      "outputs": []
    },
    {
      "cell_type": "markdown",
      "source": [
        " **Agenda Telefônica:\n",
        "Implemente uma agenda telefônica utilizando dicionários, onde o usuário pode adicionar contatos, buscar por número de telefone e remover contatos.**"
      ],
      "metadata": {
        "id": "qsQn7-7NLBTZ"
      }
    },
    {
      "cell_type": "code",
      "source": [],
      "metadata": {
        "id": "_W5-YaHeLIdR"
      },
      "execution_count": null,
      "outputs": []
    }
  ]
}