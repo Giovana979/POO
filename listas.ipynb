{
  "nbformat": 4,
  "nbformat_minor": 0,
  "metadata": {
    "colab": {
      "provenance": [],
      "authorship_tag": "ABX9TyN7VjQze5Wg/mKSQpHcCBzh",
      "include_colab_link": true
    },
    "kernelspec": {
      "name": "python3",
      "display_name": "Python 3"
    },
    "language_info": {
      "name": "python"
    }
  },
  "cells": [
    {
      "cell_type": "markdown",
      "metadata": {
        "id": "view-in-github",
        "colab_type": "text"
      },
      "source": [
        "<a href=\"https://colab.research.google.com/github/WellingtonRoque/python/blob/main/teste.ipynb\" target=\"_parent\"><img src=\"https://colab.research.google.com/assets/colab-badge.svg\" alt=\"Open In Colab\"/></a>"
      ]
    },
    {
      "cell_type": "markdown",
      "source": [
        "O que são Listas\n",
        "\n",
        "Definição: Uma lista é uma coleção ordenada de elementos mutáveis em Python.\n",
        "\n",
        "Sintaxe básica: lista = [elemento1, elemento2, ..., elementoN].\n",
        "\n",
        "Criando Listas\n",
        "\n",
        "Para criar listas no Python é necessário\n",
        "\n",
        "•\tUtilizar o símbolo [] (colchetes) para as listas;\n",
        "•\tArmazenar a lista em uma VARIÁVEL;\n",
        "•\tSepara itens da lista pela vírgula;\n"
      ],
      "metadata": {
        "id": "ngwAYKHarEDh"
      }
    },
    {
      "cell_type": "code",
      "source": [
        "# Exemplos\n",
        "lista_vazia = []\n",
        "numeros = [1, 2, 3, 4, 5]\n",
        "nomes = [\"Alice\", \"Bob\", \"Charlie\"]\n",
        "misturado = [1, \"dois\", 3.0, True]\n",
        "print(lista_vazia)\n",
        "print(numeros)\n",
        "print(nomes)\n",
        "print(misturado)"
      ],
      "metadata": {
        "colab": {
          "base_uri": "https://localhost:8080/"
        },
        "id": "_TVxqShprStr",
        "outputId": "79e5acad-bd80-4f2d-bdd4-227c945ef71c"
      },
      "execution_count": 3,
      "outputs": [
        {
          "output_type": "stream",
          "name": "stdout",
          "text": [
            "[]\n",
            "[1, 2, 3, 4, 5]\n",
            "['Alice', 'Bob', 'Charlie']\n",
            "[1, 'dois', 3.0, True]\n"
          ]
        }
      ]
    },
    {
      "cell_type": "code",
      "execution_count": 2,
      "metadata": {
        "colab": {
          "base_uri": "https://localhost:8080/"
        },
        "id": "lJqaQcDSqyYu",
        "outputId": "ce8cec85-436a-4213-980e-5bdf3304485d"
      },
      "outputs": [
        {
          "output_type": "stream",
          "name": "stdout",
          "text": [
            "[0, 2, 4, 6, 8, 10]\n"
          ]
        }
      ],
      "source": [
        "\n",
        "\n",
        "# Criando uma lista de números pares de 0 a 10\n",
        "numeros_pares = [x for x in range(0, 11, 2)]\n",
        "print(numeros_pares)"
      ]
    },
    {
      "cell_type": "markdown",
      "source": [],
      "metadata": {
        "id": "0D2P9sIWrBcd"
      }
    }
  ]
}
