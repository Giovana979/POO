{
  "nbformat": 4,
  "nbformat_minor": 0,
  "metadata": {
    "colab": {
      "provenance": [],
      "name": "Respostas_Aula3_Pyhton",
      "include_colab_link": true
    },
    "kernelspec": {
      "name": "python3",
      "display_name": "Python 3"
    },
    "language_info": {
      "name": "python"
    }
  },
  "cells": [
    {
      "cell_type": "markdown",
      "metadata": {
        "id": "view-in-github",
        "colab_type": "text"
      },
      "source": [
        "<a href=\"https://colab.research.google.com/github/Giovana979/POO/blob/main/Respostas_Aula3_Pyhton.ipynb\" target=\"_parent\"><img src=\"https://colab.research.google.com/assets/colab-badge.svg\" alt=\"Open In Colab\"/></a>"
      ]
    },
    {
      "cell_type": "markdown",
      "source": [
        "**Estrutura de Repetição for em Python**\n",
        "\n",
        "Uma estrutura de repetição em Python é um recurso para desenvolver tarefas repetitivas em um loop contínuo. O loop funciona até uma condição ser satisfeita.\n",
        "\n",
        "É importante configurar devidamente essa condição para não cair em erros fatais em um programa.\n",
        "\n",
        "O loop faz o que chamamos em programação de iteração, uma repetição que analisa alguma estrutura.\n",
        "\n",
        "**A Função range()**\n",
        "\n",
        "Explicação e uso básico\n"
      ],
      "metadata": {
        "id": "0KCgYycOFRXl"
      }
    },
    {
      "cell_type": "code",
      "execution_count": null,
      "metadata": {
        "colab": {
          "base_uri": "https://localhost:8080/"
        },
        "id": "0eii5kkrFGga",
        "outputId": "c9a6464d-346c-4995-e351-3a3385095d86"
      },
      "outputs": [
        {
          "output_type": "stream",
          "name": "stdout",
          "text": [
            "0\n",
            "1\n",
            "2\n",
            "3\n",
            "4\n"
          ]
        }
      ],
      "source": [
        "for i in range(5):\n",
        "    print(i)\n"
      ]
    },
    {
      "cell_type": "markdown",
      "source": [
        "**Usando range com parâmetros de início, fim e passo**"
      ],
      "metadata": {
        "id": "b0qTQtUsGhDC"
      }
    },
    {
      "cell_type": "code",
      "source": [
        "for i in range(2, 10, 2):\n",
        "    print(i)\n"
      ],
      "metadata": {
        "colab": {
          "base_uri": "https://localhost:8080/"
        },
        "id": "t9lrMj7vGjnY",
        "outputId": "49624572-474e-443b-e60c-fd51cfa76145"
      },
      "execution_count": null,
      "outputs": [
        {
          "output_type": "stream",
          "name": "stdout",
          "text": [
            "2\n",
            "4\n",
            "6\n",
            "8\n"
          ]
        }
      ]
    },
    {
      "cell_type": "markdown",
      "source": [
        "**Usando o for com Strings**\n",
        "\n",
        "Percorrendo caracteres de uma string"
      ],
      "metadata": {
        "id": "xpl8B9B4Hjsc"
      }
    },
    {
      "cell_type": "code",
      "source": [
        "palavra = \"Python\"\n",
        "for letra in palavra:\n",
        "    print(letra)"
      ],
      "metadata": {
        "colab": {
          "base_uri": "https://localhost:8080/"
        },
        "id": "8X5UFLH-HmkO",
        "outputId": "31df04da-d9e9-42d3-f5ba-45f7f3b7276d"
      },
      "execution_count": null,
      "outputs": [
        {
          "output_type": "stream",
          "name": "stdout",
          "text": [
            "P\n",
            "y\n",
            "t\n",
            "h\n",
            "o\n",
            "n\n"
          ]
        }
      ]
    },
    {
      "cell_type": "markdown",
      "source": [
        "**Utilizando for para atribuir valores**\n",
        "\n",
        "Utilizando o for para repetir os valores para entrada de dados."
      ],
      "metadata": {
        "id": "-V1FZCBsI-wv"
      }
    },
    {
      "cell_type": "code",
      "source": [
        "soma=0\n",
        "\n",
        "for i in range(3):\n",
        "    num = float(input(\"Digite um numero: \"))\n",
        "\n",
        "    soma+=num\n",
        "print(f\"Soma = {soma}\")\n"
      ],
      "metadata": {
        "colab": {
          "base_uri": "https://localhost:8080/"
        },
        "id": "wEAPvhxQJLvg",
        "outputId": "8e5ee2e2-0be4-48a0-95ce-2e0f42ad9d38"
      },
      "execution_count": null,
      "outputs": [
        {
          "output_type": "stream",
          "name": "stdout",
          "text": [
            "Digite um numero: 4\n",
            "Digite um numero: 4\n",
            "Digite um numero: 4\n",
            "Soma = 12.0\n"
          ]
        }
      ]
    },
    {
      "cell_type": "markdown",
      "source": [
        "**Lista de exercícos em For**\n",
        "\n",
        "\n",
        "**Imprimindo números de 1 a 10**\n",
        "* Escreva um programa que use um loop for para imprimir os números de 1 a 10.\n",
        "\n",
        "**Imprimindo números pares de 1 a 20**\n",
        "* Escreva um loop for que imprima apenas os números pares de 1 a 20.\n",
        "\n",
        "**Imprimindo números ímpares com range()**\n",
        "* Use a função range() e um loop for para imprimir os números ímpares entre 1 e 20.\n",
        "\n",
        "**Imprimindo números em ordem reversa**\n",
        "* Crie um loop for que imprima os números de 10 a 1 em ordem decrescente.\n",
        "\n",
        "**Imprimindo uma sequência numérica com passo personalizado**\n",
        "Use a função range() e um loop for para imprimir os números de 0 a 20 com um passo de 3.\n",
        "\n",
        "**Contando números negativos em uma lista**\n",
        "* Dada uma lista de números, conte quantos números são negativos e exiba o resultado.\n",
        "\n",
        "**Somando elementos**\n",
        "* Entre com 3 números, use um loop for para calcular e exibir a soma de todos os elementos\n",
        "\n",
        "**Imprimindo números divisíveis por 3**\n",
        "* Crie um loop for que percorra os números de 1 a 50 e imprima apenas aqueles que são divisíveis por 3.\n",
        "\n",
        "**Multiplicando elementos de uma lista**\n",
        "* Dada uma lista de números, crie um programa que multiplique todos os elementos da lista por um número fornecido pelo usuário.\n",
        "\n",
        "**Soma dos dígitos de um número**\n",
        "* Escreva um programa que some os dígitos de um número inteiro fornecido pelo usuário.\n",
        "\n",
        "**Verificando números primos**\n",
        "* Crie um programa que verifique quais números entre 1 e 20 são primos e os exiba.\n",
        "\n",
        "**Calculando a soma dos números divisíveis por 3 e 5**\n",
        "* Escreva um programa que some todos os números de 1 a 50 que são divisíveis por 3 ou por 5.\n",
        "\n",
        "**Encontrando o maior número em uma lista**\n",
        "* Dada uma lista de números, use um loop for para encontrar e exibir o maior número da lista."
      ],
      "metadata": {
        "id": "UyuShqA7H55r"
      }
    },
    {
      "cell_type": "markdown",
      "source": [
        "**1 -**Escreva um programa que use um loop for para imprimir os números de 1 a 10."
      ],
      "metadata": {
        "id": "eOLw7xJ3_krW"
      }
    },
    {
      "cell_type": "code",
      "source": [
        "for i in range(10):\n",
        "  print(i+1)"
      ],
      "metadata": {
        "colab": {
          "base_uri": "https://localhost:8080/"
        },
        "id": "Jn37N5si_YE5",
        "outputId": "a57b94a0-d64d-4ec1-d975-8d9a793eaa98"
      },
      "execution_count": 1,
      "outputs": [
        {
          "output_type": "stream",
          "name": "stdout",
          "text": [
            "1\n",
            "2\n",
            "3\n",
            "4\n",
            "5\n",
            "6\n",
            "7\n",
            "8\n",
            "9\n",
            "10\n"
          ]
        }
      ]
    },
    {
      "cell_type": "markdown",
      "source": [
        "**2 -**Escreva um loop for que imprima apenas os números pares de 1 a 20."
      ],
      "metadata": {
        "id": "3RPUB6Vh_r5h"
      }
    },
    {
      "cell_type": "code",
      "source": [
        "for i in range(2, 21, 2):\n",
        "  print(i)"
      ],
      "metadata": {
        "colab": {
          "base_uri": "https://localhost:8080/"
        },
        "id": "L9J4zbIuAEfJ",
        "outputId": "363beebd-dd56-469a-e30b-0a4a3178ebbe"
      },
      "execution_count": 2,
      "outputs": [
        {
          "output_type": "stream",
          "name": "stdout",
          "text": [
            "2\n",
            "4\n",
            "6\n",
            "8\n",
            "10\n",
            "12\n",
            "14\n",
            "16\n",
            "18\n",
            "20\n"
          ]
        }
      ]
    },
    {
      "cell_type": "markdown",
      "source": [
        "**3 -**Use a função range() e um loop for para imprimir os números ímpares entre 1 e 20."
      ],
      "metadata": {
        "id": "0jbULPeOAX0h"
      }
    },
    {
      "cell_type": "code",
      "source": [
        "for i in range(1,20,2):\n",
        "  print(i)"
      ],
      "metadata": {
        "colab": {
          "base_uri": "https://localhost:8080/"
        },
        "id": "icNuNftPAcY2",
        "outputId": "4fdbcdda-9125-4db6-a0a3-2647f1e436dc"
      },
      "execution_count": 5,
      "outputs": [
        {
          "output_type": "stream",
          "name": "stdout",
          "text": [
            "1\n",
            "3\n",
            "5\n",
            "7\n",
            "9\n",
            "11\n",
            "13\n",
            "15\n",
            "17\n",
            "19\n"
          ]
        }
      ]
    },
    {
      "cell_type": "markdown",
      "source": [
        "**4 -**Crie um loop for que imprima os números de 10 a 1 em ordem decrescente."
      ],
      "metadata": {
        "id": "gDr4u-pqA2Ws"
      }
    },
    {
      "cell_type": "code",
      "source": [
        "for i in range (10, 0, -1):\n",
        "  print(i)"
      ],
      "metadata": {
        "colab": {
          "base_uri": "https://localhost:8080/"
        },
        "id": "BviniC0RBAD0",
        "outputId": "e389f108-3968-434c-87ed-ea30b2b898fb"
      },
      "execution_count": 6,
      "outputs": [
        {
          "output_type": "stream",
          "name": "stdout",
          "text": [
            "10\n",
            "9\n",
            "8\n",
            "7\n",
            "6\n",
            "5\n",
            "4\n",
            "3\n",
            "2\n",
            "1\n"
          ]
        }
      ]
    },
    {
      "cell_type": "markdown",
      "source": [
        "**5 -**Use a função range() e um loop for para imprimir os números de 0 a 20 com um passo de 3."
      ],
      "metadata": {
        "id": "UWTimYMpBT2s"
      }
    },
    {
      "cell_type": "code",
      "source": [
        "for i in range (20,0,-3):\n",
        "  print(i)"
      ],
      "metadata": {
        "colab": {
          "base_uri": "https://localhost:8080/"
        },
        "id": "KZPrrBzKBhPX",
        "outputId": "bf151a0a-5785-4107-ac9c-e398ae97c66a"
      },
      "execution_count": 7,
      "outputs": [
        {
          "output_type": "stream",
          "name": "stdout",
          "text": [
            "20\n",
            "17\n",
            "14\n",
            "11\n",
            "8\n",
            "5\n",
            "2\n"
          ]
        }
      ]
    },
    {
      "cell_type": "markdown",
      "source": [
        "**6 -**Dada uma lista de números, conte quantos números são negativos e exiba o resultado."
      ],
      "metadata": {
        "id": "12Ag7F-aBuLB"
      }
    },
    {
      "cell_type": "code",
      "source": [
        "lista = [2,5,-3,8,-10,-24]\n",
        "\n",
        "for i in lista:\n",
        "  if i < 0:\n",
        "    print(i)"
      ],
      "metadata": {
        "colab": {
          "base_uri": "https://localhost:8080/"
        },
        "id": "aGOk4C56BydN",
        "outputId": "ce668011-7643-40b7-8547-02484a2d4dd7"
      },
      "execution_count": 8,
      "outputs": [
        {
          "output_type": "stream",
          "name": "stdout",
          "text": [
            "-3\n",
            "-10\n",
            "-24\n"
          ]
        }
      ]
    },
    {
      "cell_type": "markdown",
      "source": [
        "**7 -**Entre com 3 números, use um loop for para calcular e exibir a soma de todos os elementos"
      ],
      "metadata": {
        "id": "V1WsWy9cCPiO"
      }
    },
    {
      "cell_type": "code",
      "source": [
        "soma = 0\n",
        "for i in range(3):\n",
        "    num = float (input(\"Digite número: \"))\n",
        "\n",
        "    soma += num\n",
        "print(f\"Soma =  {soma}\")"
      ],
      "metadata": {
        "colab": {
          "base_uri": "https://localhost:8080/"
        },
        "id": "a_AHvvf3CVps",
        "outputId": "f398c7a0-16d3-428b-934f-3d90c5dbad94"
      },
      "execution_count": 16,
      "outputs": [
        {
          "output_type": "stream",
          "name": "stdout",
          "text": [
            "Digite número: 3\n",
            "Digite número: 3\n",
            "Digite número: 3\n",
            "Soma =  9.0\n"
          ]
        }
      ]
    },
    {
      "cell_type": "markdown",
      "source": [
        "**8 -**Crie um loop for que percorra os números de 1 a 50 e imprima apenas aqueles que são divisíveis por 3."
      ],
      "metadata": {
        "id": "K4J6I9HMETfm"
      }
    },
    {
      "cell_type": "code",
      "source": [
        "for i in range (50):\n",
        "    if i % 3 == 0:\n",
        "      print(i)"
      ],
      "metadata": {
        "colab": {
          "base_uri": "https://localhost:8080/"
        },
        "id": "Z4gloGvvEgu1",
        "outputId": "31d575c8-fbad-41cf-fac6-511b8b410b28"
      },
      "execution_count": 29,
      "outputs": [
        {
          "output_type": "stream",
          "name": "stdout",
          "text": [
            "0\n",
            "3\n",
            "6\n",
            "9\n",
            "12\n",
            "15\n",
            "18\n",
            "21\n",
            "24\n",
            "27\n",
            "30\n",
            "33\n",
            "36\n",
            "39\n",
            "42\n",
            "45\n",
            "48\n"
          ]
        }
      ]
    },
    {
      "cell_type": "markdown",
      "source": [
        "**9 -**Dada uma lista de números, crie um programa que multiplique todos os elementos da lista por um número fornecido pelo usuário."
      ],
      "metadata": {
        "id": "3YSileoTFv8e"
      }
    },
    {
      "cell_type": "code",
      "source": [],
      "metadata": {
        "id": "yhSmsqt9F2Ph"
      },
      "execution_count": null,
      "outputs": []
    }
  ]
}