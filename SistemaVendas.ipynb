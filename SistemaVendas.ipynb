{
  "nbformat": 4,
  "nbformat_minor": 0,
  "metadata": {
    "colab": {
      "provenance": [],
      "authorship_tag": "ABX9TyNRMva5QRI8LbwV0My25tWv",
      "include_colab_link": true
    },
    "kernelspec": {
      "name": "python3",
      "display_name": "Python 3"
    },
    "language_info": {
      "name": "python"
    }
  },
  "cells": [
    {
      "cell_type": "markdown",
      "metadata": {
        "id": "view-in-github",
        "colab_type": "text"
      },
      "source": [
        "<a href=\"https://colab.research.google.com/github/WellingtonRoque/python/blob/main/SistemaVendas.ipynb\" target=\"_parent\"><img src=\"https://colab.research.google.com/assets/colab-badge.svg\" alt=\"Open In Colab\"/></a>"
      ]
    },
    {
      "cell_type": "markdown",
      "source": [
        "**Modelo de Processo e Cronograma de Desenvolvimento para o Projeto Next Transmission**\n",
        "O Next Transmission visa desenvolver um software de vendas específico para uma fábrica de trens. O sistema\n",
        "terá funcionalidades para gerenciar o estoque de peças, registrar informações de clientes e processar pedidos.\n",
        "Vamos criar um cronograma de desenvolvimento baseado no método Scrum."
      ],
      "metadata": {
        "id": "JhSs4b7Ja9VN"
      }
    },
    {
      "cell_type": "code",
      "source": [
        "# Sistema de Gerenciamento de Estoque e Pedidos\n",
        "\n",
        "estoque = {\n",
        "    'peca1': {'nome': 'Parafuso', 'quantidade': 100, 'preco_unitario': 1.50},\n",
        "    'peca2': {'nome': 'Porca', 'quantidade': 50, 'preco_unitario': 0.75},\n",
        "    'peca3': {'nome': 'Arruela', 'quantidade': 75, 'preco_unitario': 0.50}\n",
        "}\n",
        "\n",
        "clientes = {}\n",
        "\n",
        "\n",
        "def exibir_estoque():\n",
        "    print(\"\\nEstoque:\")\n",
        "    for codigo, peca in estoque.items():\n",
        "        print(\n",
        "            f\"Código: {codigo}, Nome: {peca['nome']}, Quantidade: {peca['quantidade']}, Preço Unitário: R${peca['preco_unitario']:.2f}\")\n",
        "\n",
        "\n",
        "def cadastrar_cliente():\n",
        "    nome = input(\"Digite o nome do cliente: \")\n",
        "    email = input(\"Digite o e-mail do cliente: \")\n",
        "    clientes[email] = {'nome': nome, 'pedidos': []}\n",
        "    print(f\"\\nCliente {nome} cadastrado com sucesso!\")\n",
        "\n",
        "\n",
        "def processar_pedido():\n",
        "    email_cliente = input(\"Digite o e-mail do cliente: \")\n",
        "    if email_cliente in clientes:\n",
        "        exibir_estoque()\n",
        "        codigo_peca = input(\"Digite o código da peça desejada: \")\n",
        "        if codigo_peca in estoque:\n",
        "            quantidade = int(input(\"Digite a quantidade desejada: \"))\n",
        "            if quantidade <= estoque[codigo_peca]['quantidade']:\n",
        "                valor_total = quantidade * estoque[codigo_peca]['preco_unitario']\n",
        "                clientes[email_cliente]['pedidos'].append({\n",
        "                    'codigo_peca': codigo_peca,\n",
        "                    'quantidade': quantidade,\n",
        "                    'valor_total': valor_total\n",
        "                })\n",
        "                estoque[codigo_peca]['quantidade'] -= quantidade\n",
        "                print(\"\\nPedido processado com sucesso!\")\n",
        "            else:\n",
        "                print(\"\\nQuantidade indisponível no estoque.\")\n",
        "        else:\n",
        "            print(\"\\nCódigo de peça inválido.\")\n",
        "    else:\n",
        "        print(\"\\nCliente não encontrado.\")\n",
        "\n",
        "\n",
        "# Exemplo de uso\n",
        "while True:\n",
        "    print(\"\\n1 - Exibir Estoque\")\n",
        "    print(\"2 - Cadastrar Cliente\")\n",
        "    print(\"3 - Processar Pedido\")\n",
        "    print(\"4 - Sair\")\n",
        "\n",
        "    opcao = input(\"Escolha uma opção: \")\n",
        "\n",
        "    if opcao == '1':\n",
        "        exibir_estoque()\n",
        "    elif opcao == '2':\n",
        "        cadastrar_cliente()\n",
        "    elif opcao == '3':\n",
        "        processar_pedido()\n",
        "    elif opcao == '4':\n",
        "        break\n",
        "    else:\n",
        "        print(\"\\nOpção inválida. Tente novamente.\")"
      ],
      "metadata": {
        "colab": {
          "base_uri": "https://localhost:8080/"
        },
        "id": "kCUqSHNjbAXl",
        "outputId": "2dbf19b1-755b-41e1-ac27-90d9a174d052"
      },
      "execution_count": null,
      "outputs": [
        {
          "output_type": "stream",
          "name": "stdout",
          "text": [
            "\n",
            "1 - Exibir Estoque\n",
            "2 - Cadastrar Cliente\n",
            "3 - Processar Pedido\n",
            "4 - Sair\n",
            "Escolha uma opção: 1\n",
            "\n",
            "Estoque:\n",
            "Código: peca1, Nome: Parafuso, Quantidade: 100, Preço Unitário: R$1.50\n",
            "Código: peca2, Nome: Porca, Quantidade: 50, Preço Unitário: R$0.75\n",
            "Código: peca3, Nome: Arruela, Quantidade: 75, Preço Unitário: R$0.50\n",
            "\n",
            "1 - Exibir Estoque\n",
            "2 - Cadastrar Cliente\n",
            "3 - Processar Pedido\n",
            "4 - Sair\n"
          ]
        }
      ]
    }
  ]
}