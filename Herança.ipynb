{
  "nbformat": 4,
  "nbformat_minor": 0,
  "metadata": {
    "colab": {
      "provenance": [],
      "authorship_tag": "ABX9TyM8zPCRN1M6c9i+y9htBpA2",
      "include_colab_link": true
    },
    "kernelspec": {
      "name": "python3",
      "display_name": "Python 3"
    },
    "language_info": {
      "name": "python"
    }
  },
  "cells": [
    {
      "cell_type": "markdown",
      "metadata": {
        "id": "view-in-github",
        "colab_type": "text"
      },
      "source": [
        "<a href=\"https://colab.research.google.com/github/WellingtonRoque/python/blob/main/Heran%C3%A7a.ipynb\" target=\"_parent\"><img src=\"https://colab.research.google.com/assets/colab-badge.svg\" alt=\"Open In Colab\"/></a>"
      ]
    },
    {
      "cell_type": "markdown",
      "source": [
        "**Herança**\n",
        "\n",
        "Em programação orientada a objetos, a herança em classes é um conceito fundamental que permite que uma classe (conhecida como subclasse ou classe filha) herde atributos e métodos de outra classe (conhecida como superclasse ou classe pai). Isso promove a reutilização de código e a hierarquia de classes.\n",
        "\n",
        "Aqui estão alguns conceitos relacionados à herança em classes:\n",
        "\n",
        "**1 - Classe Base (ou Superclasse)**\n",
        "\n",
        "Uma classe da qual outras classes podem herdar atributos e métodos. Também é conhecida como classe pai ou superclasse.\n",
        "\n",
        "**2 - Classe Derivada (ou Subclasse)**\n",
        "\n",
        "Uma classe que herda atributos e métodos de uma classe base. Também é conhecida como classe filha ou subclasse.\n",
        "\n",
        "**3 - Herança Simples**\n",
        "\n",
        "Quando uma classe herda de apenas uma classe base. Na maioria das linguagens de programação orientadas a objetos, como Java, Python e C++, a herança simples é a forma mais comum de herança.\n",
        "\n",
        "**4 - Herança Múltipla**\n",
        "\n",
        "Uma linguagem de programação pode permitir que uma classe herde de múltiplas classes base. Isso é conhecido como herança múltipla. Algumas linguagens de programação, como Python, suportam herança múltipla, enquanto outras, como Java, não.\n",
        "\n",
        "**5 - Método de Sobrescrita (Override)**\n",
        "\n",
        "Uma subclasse pode fornecer uma implementação diferente de um método que já existe na superclasse. Isso é conhecido como sobrescrita de método. O método na subclasse substitui o método correspondente na superclasse.\n",
        "\n",
        "**6 - Método de Adição (Extension)**\n",
        "\n",
        "Uma subclasse pode adicionar novos métodos ou atributos além dos que herdou da superclasse. Isso estende o comportamento da superclasse sem modificar diretamente a classe pai.\n",
        "\n",
        "**7 - Método Super()**\n",
        "\n",
        "Em linguagens como Java e Python, a palavra-chave super() é usada para chamar métodos da superclasse a partir da subclasse. Isso é útil quando queremos acessar o comportamento da superclasse que foi substituído na subclasse.\n",
        "\n",
        "**8 - Classe Abstrata**\n",
        "\n",
        "Uma classe que não pode ser instanciada diretamente e que geralmente contém métodos abstratos, que são métodos sem implementação. É usada como uma classe base para outras classes que devem fornecer implementações específicas para esses métodos abstratos.\n",
        "\n",
        "\n",
        "**9 - Interface**\n",
        "\n",
        "Uma interface define um contrato que uma classe deve seguir, especificando quais métodos uma classe deve implementar. Diferentemente de uma classe abstrata, uma interface não pode ter implementações de métodos.\n",
        "Esses são alguns dos principais conceitos relacionados à herança em classes na programação orientada a objetos. Esses conceitos são amplamente utilizados para organizar e estruturar o código de forma eficiente e manutenível.\n",
        "\n"
      ],
      "metadata": {
        "id": "3LOrXoYqOvwu"
      }
    },
    {
      "cell_type": "markdown",
      "source": [
        "Aqui estão alguns exemplos básicos de herança em Python:\n",
        "\n",
        "**Exemplo 1: Herança Simples**"
      ],
      "metadata": {
        "id": "rKrUoRr-QLtY"
      }
    },
    {
      "cell_type": "code",
      "source": [
        "class Animal:\n",
        "    def __init__(self, nome):\n",
        "        self.nome = nome\n",
        "\n",
        "    def fazer_som(self):\n",
        "        pass  # Este método será sobrescrito nas subclasses\n",
        "\n",
        "\n",
        "class Cachorro(Animal):\n",
        "    def fazer_som(self):\n",
        "        return \"Au au!\"\n",
        "\n",
        "\n",
        "class Gato(Animal):\n",
        "    def fazer_som(self):\n",
        "        return \"Miau!\"\n",
        "\n",
        "\n",
        "# Testando as classes\n",
        "cachorro = Cachorro(\"Rex\")\n",
        "print(cachorro.nome + \" faz: \" + cachorro.fazer_som())\n",
        "\n",
        "gato = Gato(\"Whiskers\")\n",
        "print(gato.nome + \" faz: \" + gato.fazer_som())\n"
      ],
      "metadata": {
        "colab": {
          "base_uri": "https://localhost:8080/"
        },
        "id": "Hw2tPsKkQlEO",
        "outputId": "969ce854-098e-41d2-9b47-a97e1dc6832e"
      },
      "execution_count": 1,
      "outputs": [
        {
          "output_type": "stream",
          "name": "stdout",
          "text": [
            "Rex faz: Au au!\n",
            "Whiskers faz: Miau!\n"
          ]
        }
      ]
    },
    {
      "cell_type": "markdown",
      "source": [
        "**Exemplo 2: Herança em um Sistema de Cadastro de Funcionários**"
      ],
      "metadata": {
        "id": "TLJ-6wpsRiTH"
      }
    },
    {
      "cell_type": "code",
      "source": [
        "class Pessoa:\n",
        "    def __init__(self, nome, idade):\n",
        "        self.nome = nome\n",
        "        self.idade = idade\n",
        "\n",
        "    def apresentar(self):\n",
        "        return f\"Olá, meu nome é {self.nome} e tenho {self.idade} anos.\"\n",
        "\n",
        "\n",
        "class Funcionario(Pessoa):\n",
        "    def __init__(self, nome, idade, cargo, salario):\n",
        "        super().__init__(nome, idade)\n",
        "        self.cargo = cargo\n",
        "        self.salario = salario\n",
        "\n",
        "    def apresentar(self):\n",
        "        return f\"Olá, meu nome é {self.nome}, tenho {self.idade} anos e sou {self.cargo}. Meu salário é R${self.salario}.\"\n",
        "\n",
        "\n",
        "# Testando as classes\n",
        "pessoa = Pessoa(\"João\", 30)\n",
        "print(pessoa.apresentar())\n",
        "\n",
        "funcionario = Funcionario(\"Maria\", 25, \"Analista de Dados\", 5000)\n",
        "print(funcionario.apresentar())\n"
      ],
      "metadata": {
        "colab": {
          "base_uri": "https://localhost:8080/"
        },
        "id": "GQ9JpMCCRna3",
        "outputId": "6fae198a-6470-4084-8b7c-c10054daa6fc"
      },
      "execution_count": 2,
      "outputs": [
        {
          "output_type": "stream",
          "name": "stdout",
          "text": [
            "Olá, meu nome é João e tenho 30 anos.\n",
            "Olá, meu nome é Maria, tenho 25 anos e sou Analista de Dados. Meu salário é R$5000.\n"
          ]
        }
      ]
    },
    {
      "cell_type": "markdown",
      "source": [
        "**Exemplo 3: Herança em um Sistema de Banco**"
      ],
      "metadata": {
        "id": "YOUwKPLkRrq3"
      }
    },
    {
      "cell_type": "code",
      "source": [
        "class ContaBancaria:\n",
        "    def __init__(self, cliente, saldo=0):\n",
        "        self.cliente = cliente\n",
        "        self.saldo = saldo\n",
        "\n",
        "    def depositar(self, valor):\n",
        "        self.saldo += valor\n",
        "\n",
        "    def sacar(self, valor):\n",
        "        if self.saldo >= valor:\n",
        "            self.saldo -= valor\n",
        "            return valor\n",
        "        else:\n",
        "            return \"Saldo insuficiente\"\n",
        "\n",
        "\n",
        "class ContaCorrente(ContaBancaria):\n",
        "    def __init__(self, cliente, saldo=0, limite=0):\n",
        "        super().__init__(cliente, saldo)\n",
        "        self.limite = limite\n",
        "\n",
        "    def sacar(self, valor):\n",
        "        if self.saldo + self.limite >= valor:\n",
        "            self.saldo -= valor\n",
        "            return valor\n",
        "        else:\n",
        "            return \"Saldo insuficiente com o limite disponível\"\n",
        "\n",
        "\n",
        "# Testando as classes\n",
        "conta1 = ContaBancaria(\"João\")\n",
        "conta1.depositar(1000)\n",
        "print(f\"Saldo conta 1: R${conta1.saldo}\")\n",
        "print(conta1.sacar(500))\n",
        "print(f\"Saldo conta 1: R${conta1.saldo}\")\n",
        "\n",
        "conta2 = ContaCorrente(\"Maria\", limite=1000)\n",
        "conta2.depositar(2000)\n",
        "print(f\"Saldo conta 2: R${conta2.saldo}\")\n",
        "print(conta2.sacar(3000))\n",
        "print(f\"Saldo conta 2: R${conta2.saldo}\")\n"
      ],
      "metadata": {
        "colab": {
          "base_uri": "https://localhost:8080/"
        },
        "id": "See4LLhOR6xW",
        "outputId": "0d154b98-86ab-4d9a-8f17-0efd82f41992"
      },
      "execution_count": 3,
      "outputs": [
        {
          "output_type": "stream",
          "name": "stdout",
          "text": [
            "Saldo conta 1: R$1000\n",
            "500\n",
            "Saldo conta 1: R$500\n",
            "Saldo conta 2: R$2000\n",
            "3000\n",
            "Saldo conta 2: R$-1000\n"
          ]
        }
      ]
    },
    {
      "cell_type": "markdown",
      "source": [
        "**Exemplo 4: Herança em um Sistema de Veículos**"
      ],
      "metadata": {
        "id": "lTLaA_UkSLBQ"
      }
    },
    {
      "cell_type": "code",
      "source": [
        "class Veiculo:\n",
        "    def __init__(self, marca, modelo):\n",
        "        self.marca = marca\n",
        "        self.modelo = modelo\n",
        "\n",
        "    def exibir_info(self):\n",
        "        return f\"Marca: {self.marca}, Modelo: {self.modelo}\"\n",
        "\n",
        "\n",
        "class Carro(Veiculo):\n",
        "    def __init__(self, marca, modelo, cor):\n",
        "        super().__init__(marca, modelo)\n",
        "        self.cor = cor\n",
        "\n",
        "    def exibir_info(self):\n",
        "        return f\"Marca: {self.marca}, Modelo: {self.modelo}, Cor: {self.cor}\"\n",
        "\n",
        "\n",
        "class Moto(Veiculo):\n",
        "    def __init__(self, marca, modelo, cilindrada):\n",
        "        super().__init__(marca, modelo)\n",
        "        self.cilindrada = cilindrada\n",
        "\n",
        "    def exibir_info(self):\n",
        "        return f\"Marca: {self.marca}, Modelo: {self.modelo}, Cilindrada: {self.cilindrada}cc\"\n",
        "\n",
        "\n",
        "# Testando as classes\n",
        "carro = Carro(\"Toyota\", \"Corolla\", \"Prata\")\n",
        "print(carro.exibir_info())\n",
        "\n",
        "moto = Moto(\"Honda\", \"CBR600RR\", 600)\n",
        "print(moto.exibir_info())\n"
      ],
      "metadata": {
        "colab": {
          "base_uri": "https://localhost:8080/"
        },
        "id": "7rZMhuR5SSDv",
        "outputId": "898bdf0a-1ede-49f9-b88b-c22d8107a0d4"
      },
      "execution_count": 4,
      "outputs": [
        {
          "output_type": "stream",
          "name": "stdout",
          "text": [
            "Marca: Toyota, Modelo: Corolla, Cor: Prata\n",
            "Marca: Honda, Modelo: CBR600RR, Cilindrada: 600cc\n"
          ]
        }
      ]
    },
    {
      "cell_type": "markdown",
      "source": [
        "**Exemplo 6: Herança em um Sistema de Produtos Eletrônicos**"
      ],
      "metadata": {
        "id": "sp-SbCL-SWFj"
      }
    },
    {
      "cell_type": "code",
      "source": [
        "class ProdutoEletronico:\n",
        "    def __init__(self, nome, preco):\n",
        "        self.nome = nome\n",
        "        self.preco = preco\n",
        "\n",
        "    def exibir_info(self):\n",
        "        return f\"Produto: {self.nome}, Preço: R${self.preco:.2f}\"\n",
        "\n",
        "\n",
        "class Smartphone(ProdutoEletronico):\n",
        "    def __init__(self, nome, preco, marca, modelo):\n",
        "        super().__init__(nome, preco)\n",
        "        self.marca = marca\n",
        "        self.modelo = modelo\n",
        "\n",
        "    def exibir_info(self):\n",
        "        return f\"Produto: {self.nome}, Preço: R${self.preco:.2f}, Marca: {self.marca}, Modelo: {self.modelo}\"\n",
        "\n",
        "\n",
        "class Notebook(ProdutoEletronico):\n",
        "    def __init__(self, nome, preco, marca, processador):\n",
        "        super().__init__(nome, preco)\n",
        "        self.marca = marca\n",
        "        self.processador = processador\n",
        "\n",
        "    def exibir_info(self):\n",
        "        return f\"Produto: {self.nome}, Preço: R${self.preco:.2f}, Marca: {self.marca}, Processador: {self.processador}\"\n",
        "\n",
        "\n",
        "# Testando as classes\n",
        "smartphone = Smartphone(\"iPhone 12\", 5999.99, \"Apple\", \"12\")\n",
        "print(smartphone.exibir_info())\n",
        "\n",
        "notebook = Notebook(\"MacBook Pro\", 8999.99, \"Apple\", \"Intel Core i7\")\n",
        "print(notebook.exibir_info())\n"
      ],
      "metadata": {
        "colab": {
          "base_uri": "https://localhost:8080/"
        },
        "id": "xrOKd8ieSyqf",
        "outputId": "85e7f10b-ae48-4c22-edc8-117314bc3ec0"
      },
      "execution_count": 7,
      "outputs": [
        {
          "output_type": "stream",
          "name": "stdout",
          "text": [
            "Produto: iPhone 12, Preço: R$5999.99, Marca: Apple, Modelo: 12\n",
            "Produto: MacBook Pro, Preço: R$8999.99, Marca: Apple, Processador: Intel Core i7\n"
          ]
        }
      ]
    },
    {
      "cell_type": "markdown",
      "source": [
        "**Lista de Exercicos utilizando Herança**\n",
        "\n",
        "**1 - Sistema de Figuras Geométricas**\n",
        "\n",
        "Crie uma classe base FiguraGeometrica com métodos para calcular área e perímetro. Em seguida, crie subclasses como Quadrado, Retangulo, Triangulo e Circulo que herdem da classe base e implementem os métodos de acordo com as fórmulas específicas de cada figura.\n",
        "\n",
        "**2 - Sistema de Funcionários**\n",
        "\n",
        "Crie uma classe base Funcionario com atributos como nome, idade e salário. Em seguida, crie subclasses como Gerente, Analista, Desenvolvedor que herdem da classe base e adicionem atributos específicos a cada tipo de funcionário.\n",
        "\n",
        "**3 - Sistema de Produtos**\n",
        "Crie uma classe base Produto com atributos como nome, preço e categoria. Em seguida, crie subclasses como Eletronico, Alimento, Vestuario que herdem da classe base e adicionem atributos específicos a cada tipo de produto.\n",
        "\n",
        "**4 - Sistema de Comidas**\n",
        "\n",
        "Crie uma classe base Comida com atributos como nome, sabor e calorias. Em seguida, crie subclasses como Fruta, Vegetal, Doce que herdem da classe base e adicionem atributos específicos a cada tipo de comida.\n",
        "\n",
        "**5 - Sistema de Contas de Energia**\n",
        "\n",
        "Crie uma classe base ContaEnergia com métodos para calcular o consumo de energia e gerar faturas. Em seguida, crie subclasses como Residencial, Comercial, Industrial que herdem da classe base e implementem os métodos de acordo com o tipo de conta.\n",
        "\n",
        "**6 - Sistema de Dispositivos de Armazenamento**\n",
        "\n",
        "Crie uma classe base DispositivoArmazenamento com atributos como capacidade e interface. Em seguida, crie subclasses como HD, SSD, PenDrive que herdem da classe base e adicionem atributos específicos a cada tipo de dispositivo.\n",
        "\n",
        "**7 - Sistema de Escolas**\n",
        "\n",
        "Crie uma classe base Escola com atributos como nome, localização e número de alunos. Em seguida, crie subclasses como EscolaEnsinoMedio, EscolaEnsinoFundamental, Faculdade que herdem da classe base e adicionem atributos específicos a cada tipo de instituição de ensino.\n",
        "\n",
        "**8 - Sistema de Alunos de Escola de Idiomas**\n",
        "\n",
        "Crie uma classe base AlunoIdiomas com atributos como nome, idade e idioma estudado. Em seguida, crie subclasses como AlunoInglês, AlunoEspanhol, AlunoFrancês que herdem da classe base e adicionem métodos específicos para cada tipo de aluno.\n",
        "\n",
        "**9 - Sistema de Profissionais de Saúde**\n",
        "\n",
        "Crie uma classe base ProfissionalSaude com atributos como nome, especialidade e experiência. Em seguida, crie subclasses como Médico, Enfermeiro, Fisioterapeuta que herdem da classe base e adicionem métodos específicos para cada tipo de profissional.\n",
        "\n",
        "**10 - Sistema de Produtos Sustentáveis**\n",
        "\n",
        "Crie uma classe base ProdutoSustentavel com atributos como nome, preço e impacto ambiental. Em seguida, crie subclasses como ProdutoReciclado, ProdutoOrganico, ProdutoEcoamigavel que herdem da classe base e adicionem atributos específicos a cada tipo de produto sustentável.\n",
        "\n"
      ],
      "metadata": {
        "id": "gntkzoGLU7KJ"
      }
    }
  ]
}