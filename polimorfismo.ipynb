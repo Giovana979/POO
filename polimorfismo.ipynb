{
  "nbformat": 4,
  "nbformat_minor": 0,
  "metadata": {
    "colab": {
      "provenance": [],
      "authorship_tag": "ABX9TyOCZXZwIAxmMummcT5OQoeq",
      "include_colab_link": true
    },
    "kernelspec": {
      "name": "python3",
      "display_name": "Python 3"
    },
    "language_info": {
      "name": "python"
    }
  },
  "cells": [
    {
      "cell_type": "markdown",
      "metadata": {
        "id": "view-in-github",
        "colab_type": "text"
      },
      "source": [
        "<a href=\"https://colab.research.google.com/github/WellingtonRoque/python/blob/main/polimorfismo.ipynb\" target=\"_parent\"><img src=\"https://colab.research.google.com/assets/colab-badge.svg\" alt=\"Open In Colab\"/></a>"
      ]
    },
    {
      "cell_type": "markdown",
      "source": [
        "**POLIMORFISMO**\n",
        "\n",
        "Em orientação a objetos, o polimorfismo é um conceito fundamental que se refere à capacidade de objetos de diferentes classes serem tratados de forma uniforme, permitindo que métodos com o mesmo nome se comportem de maneiras diferentes dependendo do tipo do objeto que os invoca.\n",
        "\n",
        "Em Python, o polimorfismo é amplamente suportado devido à sua natureza dinâmica e tipagem dinâmica.\n",
        "\n",
        "Aqui estão os principais conceitos de polimorfismo em orientação a objetos utilizando Python:"
      ],
      "metadata": {
        "id": "x2nf6kB5w3eB"
      }
    },
    {
      "cell_type": "markdown",
      "source": [
        "**1 - Métodos Polimórficos**\n",
        "\n",
        "Métodos que têm o mesmo nome em diferentes classes, mas que realizam operações diferentes. Isso permite que você chame o mesmo método em diferentes objetos e obter comportamentos específicos de acordo com o tipo do objeto.\n",
        "\n",
        "# Por exemplo:\n",
        "Neste exemplo, as classes Cachorro e Gato herdam da classe base Animal. Elas substituem (override) o método som() da classe base com implementações específicas para cada tipo de animal. Quando chamamos o método som() em cada objeto na lista animais, a implementação correspondente do método é invocada, demonstrando assim o polimorfismo com override."
      ],
      "metadata": {
        "id": "9vmE3dyr1KHZ"
      }
    },
    {
      "cell_type": "code",
      "source": [
        "class Animal:\n",
        "    def som(self):\n",
        "        pass\n",
        "\n",
        "class Cachorro(Animal):\n",
        "    def som(self):\n",
        "        print(\"Late\")\n",
        "\n",
        "class Gato(Animal):\n",
        "    def som(self):\n",
        "        print(\"Mia\")\n",
        "\n",
        "cat = Gato()\n",
        "dog = Cachorro()\n",
        "\n",
        "cat.som()\n",
        "dog.som()\n",
        "\n",
        "\n",
        "# Usando polimorfismo\n",
        "#animais = [Cachorro(), Gato()]\n",
        "#for animal in animais:\n",
        "#    animal.som()  # Produzirá diferentes sons dependendo do tipo do animal\n",
        "\n"
      ],
      "metadata": {
        "colab": {
          "base_uri": "https://localhost:8080/"
        },
        "id": "_Svs73Tf1VrJ",
        "outputId": "9603214a-28a0-46d6-fda2-c3497052aeba"
      },
      "execution_count": 5,
      "outputs": [
        {
          "output_type": "stream",
          "name": "stdout",
          "text": [
            "Mia\n",
            "Late\n"
          ]
        }
      ]
    },
    {
      "cell_type": "markdown",
      "source": [
        "**Polimorfismo com Herança**\n",
        "\n",
        "Classes derivadas podem substituir ou estender métodos da classe base. Isso permite que você use um método de uma classe base em objetos de classes derivadas, onde o comportamento do método pode ser diferente.\n",
        "\n",
        "#Segue exemplo:"
      ],
      "metadata": {
        "id": "5L7ViK1N5tJb"
      }
    },
    {
      "cell_type": "code",
      "source": [
        "class Veiculo:\n",
        "    def mover(self):\n",
        "        print(\"Veículo em movimento\")\n",
        "\n",
        "class Carro(Veiculo):\n",
        "    def mover(self):\n",
        "        print(\"Carro em movimento\")\n",
        "\n",
        "class Aviao(Veiculo):\n",
        "    def mover(self):\n",
        "        print(\"Avião em movimento\")\n",
        "\n",
        "veiculo1 = Veiculo()\n",
        "carro1 = Carro()\n",
        "aviao1 = Aviao()\n",
        "\n",
        "veiculo1.mover()\n",
        "carro1.mover()\n",
        "aviao1.mover()\n",
        "\n",
        "\n",
        "#Usando polimorfismo com herança\n",
        "#veiculos = [Veiculo(), Carro(), Aviao()]\n",
        "#for veiculo in veiculos:\n",
        "#    veiculo.mover()  # Produzirá diferentes saídas dependendo do tipo de veículo\n",
        "\n"
      ],
      "metadata": {
        "colab": {
          "base_uri": "https://localhost:8080/"
        },
        "id": "MvPe92Md7wrj",
        "outputId": "3dadc461-7f55-47f6-ecab-66306456719a"
      },
      "execution_count": 4,
      "outputs": [
        {
          "output_type": "stream",
          "name": "stdout",
          "text": [
            "Veículo em movimento\n",
            "Carro em movimento\n",
            "Avião em movimento\n"
          ]
        }
      ]
    },
    {
      "cell_type": "markdown",
      "source": [
        "Esses são os principais conceitos de polimorfismo em orientação a objetos usando Python. Eles permitem que você escreva código mais flexível, reutilizável e mais próximo do paradigma de orientação a objetos."
      ],
      "metadata": {
        "id": "ZMzFgpz18TZr"
      }
    },
    {
      "cell_type": "markdown",
      "source": [
        "O polimorfismo com ***override*** ocorre quando uma classe filha substitui um método de sua classe pai.\n",
        "\n",
        "Aqui está um exemplo que demonstra isso:"
      ],
      "metadata": {
        "id": "AtuNq1OO8V-j"
      }
    },
    {
      "cell_type": "code",
      "source": [
        "\n",
        "\n",
        "class Forma:\n",
        "    def calcular_area(self):\n",
        "        pass\n",
        "\n",
        "class Retangulo(Forma):\n",
        "    def __init__(self, comprimento, largura):\n",
        "        self.comprimento = comprimento\n",
        "        self.largura = largura\n",
        "\n",
        "    def calcular_area(self):\n",
        "        return self.comprimento * self.largura\n",
        "\n",
        "class Circulo(Forma):\n",
        "    def __init__(self, raio):\n",
        "        self.raio = raio\n",
        "\n",
        "    def calcular_area(self):\n",
        "        return 3.14 * self.raio * self.raio\n",
        "\n",
        "retangulo1 = Retangulo(2, 3)\n",
        "circulo1 = Circulo(3)\n",
        "\n",
        "print(retangulo1.calcular_area())\n",
        "print(circulo1.calcular_area())\n",
        "\n",
        "\n",
        "# Usando polimorfismo com override\n",
        "#formas = [Retangulo(5, 4), Circulo(3)]\n",
        "#for forma in formas:\n",
        "#   print(\"Área:\", forma.calcular_area())  # Produzirá áreas diferentes dependendo do tipo de forma\n",
        "\n"
      ],
      "metadata": {
        "colab": {
          "base_uri": "https://localhost:8080/"
        },
        "id": "OYPqnc5e--d9",
        "outputId": "a46b1177-4fd1-4bc6-c11c-14e551a97ead"
      },
      "execution_count": 6,
      "outputs": [
        {
          "output_type": "stream",
          "name": "stdout",
          "text": [
            "6\n",
            "28.259999999999998\n"
          ]
        }
      ]
    },
    {
      "cell_type": "markdown",
      "source": [
        "O **polimorfismo** é uma característica fundamental da orientação a objetos que permite que objetos de diferentes classes sejam tratados de maneira uniforme.\n",
        "\n",
        "Isso proporciona uma maior flexibilidade e extensibilidade ao código.\n",
        "\n",
        "#Aqui estão alguns exemplos de aplicação do polimorfismo em Python"
      ],
      "metadata": {
        "id": "Ntv36QxP_kMq"
      }
    },
    {
      "cell_type": "markdown",
      "source": [
        "**Sistema de Animação com Personagens**\n",
        "\n",
        "Suponha que você esteja desenvolvendo um jogo com personagens que têm diferentes comportamentos de movimento. Utilizando o polimorfismo, você pode criar uma classe base Personagem com um método mover(), e então implementar diferentes classes para cada tipo de personagem, cada uma com sua própria implementação do método mover().\n",
        "\n",
        "Isso permite que você trate todos os personagens de forma uniforme no código do jogo, sem se preocupar com os detalhes específicos de movimento de cada personagem."
      ],
      "metadata": {
        "id": "CzVJQMuB_5K6"
      }
    },
    {
      "cell_type": "code",
      "source": [
        "class Personagem:\n",
        "    def mover(self):\n",
        "        pass\n",
        "\n",
        "class Jogador(Personagem):\n",
        "    def mover(self):\n",
        "        print(\"Movendo jogador com controle do teclado\")\n",
        "\n",
        "class Inimigo(Personagem):\n",
        "    def mover(self):\n",
        "        print(\"Movendo inimigo de forma autônoma\")\n",
        "\n",
        "# Usando polimorfismo com override\n",
        "personagens = [Jogador(), Inimigo()]\n",
        "for personagem in personagens:\n",
        "    personagem.mover()  # Produzirá diferentes saídas dependendo do tipo de personagem\n"
      ],
      "metadata": {
        "colab": {
          "base_uri": "https://localhost:8080/"
        },
        "id": "DbL6_RuNAMKy",
        "outputId": "c48429ab-a34d-4b9c-c4d3-c89a962d1a28"
      },
      "execution_count": 7,
      "outputs": [
        {
          "output_type": "stream",
          "name": "stdout",
          "text": [
            "Movendo jogador com controle do teclado\n",
            "Movendo inimigo de forma autônoma\n"
          ]
        }
      ]
    },
    {
      "cell_type": "markdown",
      "source": [
        "**Sistema de Cadastro de Clientes**, onde diferentes tipos de clientes têm diferentes formas de desconto.\n",
        "\n",
        "Neste exemplo, temos uma classe base Cliente com um método calcular_desconto() que retorna 0, pois o desconto para um cliente genérico é 0. Em seguida, temos duas subclasses: ClienteComum e ClientePremium, cada uma com sua própria implementação do método calcular_desconto(), calculando o desconto com base nas compras totais do cliente.\n",
        "\n",
        "Ao usar polimorfismo, podemos tratar todos os clientes de forma uniforme no código, chamando o método calcular_desconto() para cada cliente, independentemente de ser um cliente comum ou premium. O método correto será chamado de acordo com o tipo de cliente, permitindo um código mais flexível e modular."
      ],
      "metadata": {
        "id": "5QDKfcAQAVkL"
      }
    },
    {
      "cell_type": "code",
      "source": [
        "class Cliente:\n",
        "    def __init__(self, nome, total_compras):\n",
        "        self.nome = nome\n",
        "        self.total_compras = total_compras\n",
        "\n",
        "    def calcular_desconto(self):\n",
        "        return 0\n",
        "\n",
        "class ClienteComum(Cliente):\n",
        "    def calcular_desconto(self):\n",
        "        return self.total_compras * 0.1\n",
        "\n",
        "class ClientePremium(Cliente):\n",
        "    def calcular_desconto(self):\n",
        "        return self.total_compras * 0.2\n",
        "\n",
        "# Usando polimorfismo com override\n",
        "clientes = [\n",
        "    ClienteComum(\"João\", 1000),\n",
        "    ClientePremium(\"Maria\", 2000)\n",
        "]\n",
        "\n",
        "for cliente in clientes:\n",
        "    print(f\"Cliente: {cliente.nome}, Desconto: {cliente.calcular_desconto()}\")\n"
      ],
      "metadata": {
        "colab": {
          "base_uri": "https://localhost:8080/"
        },
        "id": "krf07c7RAe2U",
        "outputId": "66befd9a-ae58-4afb-9dd6-4e67fd8325b4"
      },
      "execution_count": 8,
      "outputs": [
        {
          "output_type": "stream",
          "name": "stdout",
          "text": [
            "Cliente: João, Desconto: 100.0\n",
            "Cliente: Maria, Desconto: 400.0\n"
          ]
        }
      ]
    },
    {
      "cell_type": "markdown",
      "source": [
        "Vou criar um exemplo simples de **controle de estoque de peças** utilizando polimorfismo.\n",
        "\n",
        "Neste exemplo, teremos uma classe base Peca com métodos para adicionar e remover peças do estoque, e duas subclasses PecaNormal e PecaEspecial, cada uma com suas próprias implementações para adicionar e remover peças do estoque."
      ],
      "metadata": {
        "id": "_G2cmewPAwfr"
      }
    },
    {
      "cell_type": "code",
      "source": [
        "class Peca:\n",
        "    def __init__(self, nome, quantidade_estoque):\n",
        "        self.nome = nome\n",
        "        self.quantidade_estoque = quantidade_estoque\n",
        "\n",
        "    def adicionar_estoque(self, quantidade):\n",
        "        self.quantidade_estoque += quantidade\n",
        "\n",
        "    def remover_estoque(self, quantidade):\n",
        "        self.quantidade_estoque -= quantidade\n",
        "\n",
        "class PecaNormal(Peca):\n",
        "    def adicionar_estoque(self, quantidade):\n",
        "        # Lógica específica para adicionar peças normais\n",
        "        super().adicionar_estoque(quantidade)\n",
        "\n",
        "    def remover_estoque(self, quantidade):\n",
        "        # Lógica específica para remover peças normais\n",
        "        super().remover_estoque(quantidade)\n",
        "\n",
        "class PecaEspecial(Peca):\n",
        "    def adicionar_estoque(self, quantidade):\n",
        "        # Lógica específica para adicionar peças especiais\n",
        "        super().adicionar_estoque(quantidade * 2)  # Adiciona o dobro da quantidade\n",
        "        print(f\"{quantidade} peças especiais adicionadas.\")\n",
        "\n",
        "    def remover_estoque(self, quantidade):\n",
        "        # Lógica específica para remover peças especiais\n",
        "        super().remover_estoque(quantidade)\n",
        "        print(f\"{quantidade} peças especiais removidas.\")\n",
        "\n",
        "# Exemplo de uso\n",
        "peca_normal = PecaNormal(\"Parafuso\", 100)\n",
        "peca_especial = PecaEspecial(\"Porca\", 50)\n",
        "\n",
        "print(f\"Estoque de {peca_normal.nome}: {peca_normal.quantidade_estoque}\")\n",
        "print(f\"Estoque de {peca_especial.nome}: {peca_especial.quantidade_estoque}\")\n",
        "\n",
        "peca_normal.adicionar_estoque(20)\n",
        "peca_especial.adicionar_estoque(10)\n",
        "\n",
        "print(f\"Estoque de {peca_normal.nome}: {peca_normal.quantidade_estoque}\")\n",
        "print(f\"Estoque de {peca_especial.nome}: {peca_especial.quantidade_estoque}\")\n",
        "\n",
        "peca_normal.remover_estoque(30)\n",
        "peca_especial.remover_estoque(5)\n",
        "\n",
        "print(f\"Estoque de {peca_normal.nome}: {peca_normal.quantidade_estoque}\")\n",
        "print(f\"Estoque de {peca_especial.nome}: {peca_especial.quantidade_estoque}\")\n"
      ],
      "metadata": {
        "colab": {
          "base_uri": "https://localhost:8080/"
        },
        "id": "Bjhg1eyJA2di",
        "outputId": "8bc4c9f6-45a0-4106-85f3-fef6dfc348e4"
      },
      "execution_count": 9,
      "outputs": [
        {
          "output_type": "stream",
          "name": "stdout",
          "text": [
            "Estoque de Parafuso: 100\n",
            "Estoque de Porca: 50\n",
            "10 peças especiais adicionadas.\n",
            "Estoque de Parafuso: 120\n",
            "Estoque de Porca: 70\n",
            "5 peças especiais removidas.\n",
            "Estoque de Parafuso: 90\n",
            "Estoque de Porca: 65\n"
          ]
        }
      ]
    },
    {
      "cell_type": "markdown",
      "source": [
        "#Lista de Exercícios utilizando Polimorfismo\n",
        "Estes exercícios adicionais devem fornecer mais oportunidades para praticar e explorar o polimorfismo em Python em diferentes contextos e aplicações.\n",
        "\n",
        "\n",
        "**1 - Calculadora Polimórfica**\n",
        "\n",
        "Crie uma calculadora polimórfica que pode realizar diferentes operações matemáticas (adição, subtração, multiplicação, etc.) com base nos operandos fornecidos.\n",
        "\n",
        "**2 - Loja Virtual**\n",
        "\n",
        "Desenvolva um sistema de loja virtual onde diferentes tipos de produtos (por exemplo, livros, eletrônicos, roupas) tenham diferentes métodos para calcular o preço com base em descontos e promoções.\n",
        "\n",
        "**3 - Sistema Bancário**\n",
        "Crie um sistema bancário onde diferentes tipos de contas (por exemplo, conta corrente, conta poupança, conta investimento) tenham diferentes métodos para calcular os juros e taxas associados.\n",
        "\n",
        "**4 - Sistema de Animais em um Zoológico**\n",
        "\n",
        "Implemente um sistema que simule um zoológico, onde diferentes tipos de animais (por exemplo, mamíferos, aves, répteis) tenham diferentes comportamentos (como alimentação, reprodução) utilizando polimorfismo.\n",
        "\n",
        "**5 - Agenda de Contatos**\n",
        "\n",
        "Desenvolva uma agenda de contatos onde diferentes tipos de contatos (por exemplo, pessoal, profissional, médico) tenham diferentes métodos para armazenar informações adicionais (como endereço, número de telefone, especialidade).\n",
        "\n",
        "**6 - Gestão de Veículos**\n",
        "\n",
        "Crie um sistema de gestão de veículos onde diferentes tipos de veículos (por exemplo, carros, motos, caminhões) tenham diferentes métodos para calcular o consumo de combustível e custo de manutenção.\n",
        "\n",
        "**7 - Sistema de Empréstimos**\n",
        "Implemente um sistema de empréstimos onde diferentes tipos de empréstimos (por exemplo, empréstimo pessoal, empréstimo empresarial, empréstimo estudantil) tenham diferentes métodos para calcular os juros e prazos de pagamento.\n",
        "\n",
        "**8 - Biblioteca de Veículos**\n",
        "Implemente uma biblioteca de veículos onde diferentes tipos de veículos (por exemplo, carros, bicicletas, ônibus) tenham diferentes métodos para calcular o custo de manutenção e consumo de combustível.\n",
        "\n",
        "**9 - Sistema de Pagamentos**\n",
        "\n",
        "Desenvolva um sistema de pagamentos onde diferentes métodos de pagamento (por exemplo, cartão de crédito, boleto bancário, transferência bancária) tenham diferentes formas de processamento de pagamentos.\n",
        "\n",
        "**10 - Sistema de Reservas de Hotel**\n",
        "\n",
        "Crie um sistema de reservas de hotel onde diferentes tipos de quartos (por exemplo, simples, duplo, suíte) tenham diferentes métodos para calcular o preço da estadia e disponibilidade.\n",
        "\n",
        "**11 - Aplicativo de Entrega de Alimentos**\n",
        "\n",
        "Implemente um aplicativo de entrega de alimentos onde diferentes tipos de restaurantes (por exemplo, pizzaria, restaurante japonês, hamburgueria) tenham diferentes métodos para calcular o tempo de entrega e custo de entrega.\n",
        "\n",
        "**12 - Sistema de Vendas de Ingressos**\n",
        "\n",
        "Desenvolva um sistema de vendas de ingressos para eventos onde diferentes tipos de ingressos (por exemplo, VIP, regular, estudante) tenham diferentes métodos para calcular o preço e disponibilidade.\n",
        "\n",
        "**13 - Gestão de Equipamentos Esportivos**\n",
        "\n",
        "Crie um sistema de gestão de equipamentos esportivos onde diferentes tipos de equipamentos (por exemplo, bolas, raquetes, luvas) tenham diferentes métodos para calcular o preço de aluguel e disponibilidade.\n",
        "\n",
        "**14 - Sistema de Reservas de Passagens Aéreas**\n",
        "\n",
        "Implemente um sistema de reservas de passagens aéreas onde diferentes tipos de assentos (por exemplo, econômico, executivo, primeira classe) tenham diferentes métodos para calcular o preço e disponibilidade.\n",
        "\n",
        "**15 - Aplicativo de Streaming de Música**\n",
        "\n",
        "Desenvolva um aplicativo de streaming de música onde diferentes tipos de assinaturas (por exemplo, básica, premium, familiar) tenham diferentes métodos para acessar músicas e criar playlists.\n"
      ],
      "metadata": {
        "id": "JsevCjK1BygM"
      }
    }
  ]
}