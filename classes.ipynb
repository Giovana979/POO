{
  "nbformat": 4,
  "nbformat_minor": 0,
  "metadata": {
    "colab": {
      "provenance": [],
      "authorship_tag": "ABX9TyPaTHU3Fx85jHaLutIsrs6D",
      "include_colab_link": true
    },
    "kernelspec": {
      "name": "python3",
      "display_name": "Python 3"
    },
    "language_info": {
      "name": "python"
    }
  },
  "cells": [
    {
      "cell_type": "markdown",
      "metadata": {
        "id": "view-in-github",
        "colab_type": "text"
      },
      "source": [
        "<a href=\"https://colab.research.google.com/github/WellingtonRoque/python/blob/main/classes.ipynb\" target=\"_parent\"><img src=\"https://colab.research.google.com/assets/colab-badge.svg\" alt=\"Open In Colab\"/></a>"
      ]
    },
    {
      "cell_type": "markdown",
      "source": [
        "**Classe**\n",
        "\n",
        "Em Python, uma classe é uma estrutura fundamental que permite organizar e criar objetos. Aqui estão alguns dos principais conceitos relacionados a classes em Python.\n",
        "\n",
        "**1 - Objeto:** Um objeto é uma instância de uma classe. Ele possui atributos (variáveis associadas ao objeto) e métodos (funções associadas ao objeto).\n",
        "\n",
        "**2 - Classe:** Uma classe é um modelo para criar objetos. Ela define as propriedades (atributos) e comportamentos (métodos) comuns a todos os objetos criados a partir dela.\n",
        "\n",
        "**3 - Atributos:** Os atributos são variáveis associadas a um objeto. Eles representam as características ou dados que o objeto possui. Os atributos podem ser variáveis de instância (pertencentes a uma instância específica) ou variáveis de classe (compartilhadas por todas as instâncias da classe).\n",
        "\n",
        "**4 - Métodos:** Os métodos são funções definidas em uma classe que podem acessar e modificar os atributos de um objeto. Eles representam os comportamentos ou ações que os objetos podem realizar.\n",
        "\n",
        "**5 - Herança:** Herança é um conceito em que uma classe pode herdar atributos e métodos de outra classe, chamada de classe base ou superclasse. Isso permite reutilizar código e estabelecer hierarquias entre classes.\n",
        "\n",
        "**6 - Encapsulamento:** Encapsulamento é o princípio de ocultar os detalhes de implementação de uma classe e fornecer uma interface clara e consistente para interagir com os objetos. Em Python, o encapsulamento é geralmente alcançado usando métodos de acesso (métodos getter e setter) para acessar e modificar os atributos de um objeto.\n",
        "\n",
        "**7 - Polimorfismo:** Polimorfismo é a capacidade de objetos de diferentes classes responderem ao mesmo método de maneira diferente. Isso permite que diferentes objetos sejam tratados de maneira uniforme.\n",
        "\n",
        "**8 - Instância:** Uma instância é um objeto específico criado a partir de uma classe. Cada instância tem seu próprio conjunto de atributos, independentes de outras instâncias da mesma classe.\n",
        "\n",
        "\n",
        "Em Python, a estrutura básica de uma classe é definida usando a palavra-chave ***class***, seguida pelo nome da classe e, opcionalmente, uma lista de classes base entre parênteses.\n",
        "\n",
        "Dentro da definição da classe, você pode incluir **métodos (funções) e atributos (variáveis)** que descrevem o comportamento e os dados associados aos objetos dessa classe.\n",
        "\n",
        "Aqui está a estrutura básica de uma classe em Python:\n",
        "\n"
      ],
      "metadata": {
        "id": "oKQ02tYOR9U4"
      }
    },
    {
      "cell_type": "code",
      "source": [
        "class NomeDaClasse:\n",
        "    def __init__(self, parametros):\n",
        "        # Método especial de inicialização (construtor)\n",
        "        # O método __init__ é chamado automaticamente quando um objeto da classe é criado\n",
        "        # Aqui você inicializa os atributos do objeto\n",
        "        self.atributo1 = valor1\n",
        "        self.atributo2 = valor2\n",
        "        # Outros atributos...\n",
        "\n",
        "    def metodo1(self, parametros):\n",
        "        # Definição de métodos\n",
        "        # Métodos podem acessar e manipular os atributos do objeto usando self\n",
        "        # Método especial __init__ é um exemplo de método\n",
        "\n",
        "    def metodo2(self, parametros):\n",
        "        # Outro método...\n",
        "\n",
        "    # Outros métodos...\n"
      ],
      "metadata": {
        "id": "9JEoAKpxjbXp"
      },
      "execution_count": null,
      "outputs": []
    },
    {
      "cell_type": "markdown",
      "source": [
        "**Explicação dos elementos:**\n",
        "\n",
        "**class NomeDaClasse:** Define uma nova classe chamada NomeDaClasse.\n",
        "\n",
        "\n",
        "**def __init__(self, parametros):** Método especial de inicialização, também conhecido como construtor. É chamado automaticamente quando um objeto da classe é criado. Os parâmetros passados para o método __init__ são usados para inicializar os atributos do objeto.\n",
        "\n",
        "\n",
        "**self:** É uma referência ao próprio objeto. É usado para acessar os atributos e métodos do objeto dentro da classe.\n",
        "\n",
        "\n",
        "**atributo1, atributo2, etc.:** São variáveis associadas aos objetos da classe, também chamadas de atributos. Eles armazenam dados específicos do objeto.\n",
        "\n",
        "\n",
        "**metodo1, metodo2, etc.:** São funções definidas dentro da classe, também chamadas de métodos. Eles representam as ações que os objetos da classe podem realizar.\n",
        "\n",
        "\n",
        "Esta é a estrutura básica de uma classe em Python. Você pode adicionar mais métodos e atributos conforme necessário para representar o comportamento e os dados desejados para seus objetos."
      ],
      "metadata": {
        "id": "E7G2H6oqkmRl"
      }
    },
    {
      "cell_type": "markdown",
      "source": [
        "Vamos criar uma classe chamada **Pessoa**, que terá ***atributos para nome e idade***, e **métodos para imprimir informações** sobre a pessoa e **atualizar a idade**.\n",
        "\n",
        "Aqui está como fazer:"
      ],
      "metadata": {
        "id": "Loy8fAHgo5WG"
      }
    },
    {
      "cell_type": "code",
      "source": [
        "class Pessoa:\n",
        "    def __init__(self, nome, idade):\n",
        "        self.nome = nome\n",
        "        self.idade = idade\n",
        "\n",
        "    def imprimir_informacoes(self):\n",
        "        print(f\"Nome: {self.nome}, Idade: {self.idade}\")\n",
        "\n",
        "    def atualizar_idade(self, nova_idade):\n",
        "        self.idade = nova_idade\n",
        "\n",
        "# Criando um objeto da classe Pessoa\n",
        "pessoa1 = Pessoa(\"João\", 30)\n",
        "\n",
        "# Chamando o método para imprimir informações sobre a pessoa\n",
        "pessoa1.imprimir_informacoes()  # Saída: Nome: João, Idade: 30\n",
        "\n",
        "# Atualizando a idade da pessoa\n",
        "pessoa1.atualizar_idade(35)\n",
        "\n",
        "# Imprimindo informações atualizadas\n",
        "pessoa1.imprimir_informacoes()  # Saída: Nome: João, Idade: 35"
      ],
      "metadata": {
        "colab": {
          "base_uri": "https://localhost:8080/"
        },
        "id": "nAtbqnlspHxv",
        "outputId": "305edbc6-7446-43ff-aba8-6e73cd252dd4"
      },
      "execution_count": 10,
      "outputs": [
        {
          "output_type": "stream",
          "name": "stdout",
          "text": [
            "Nome: João, Idade: 30\n",
            "Nome: João, Idade: 35\n"
          ]
        }
      ]
    },
    {
      "cell_type": "markdown",
      "source": [
        "**Explicação:**\n",
        "\n",
        "**class Pessoa::** Define a classe Pessoa.\n",
        "\n",
        "\n",
        "**def __init__(self, nome, idade)::** Método especial __init__, também chamado de construtor, é chamado automaticamente quando um objeto da classe é criado. Ele inicializa os atributos nome e idade.\n",
        "\n",
        "**self:** Referência ao próprio objeto. É usado para acessar os atributos e métodos do objeto dentro da classe.\n",
        "\n",
        "**self.nome = nome e self.idade = idade:** Atribui os valores passados para os parâmetros nome e idade aos atributos nome e idade do objeto.\n",
        "\n",
        "**def imprimir_informacoes(self)::** Define um método chamado imprimir_informacoes que imprime o nome e a idade da pessoa.\n",
        "\n",
        "**def atualizar_idade(self, nova_idade)::** Define um método chamado atualizar_idade que atualiza a idade da pessoa para um novo valor.\n",
        "\n",
        "**pessoa1 = Pessoa(\"João\", 30):** Cria um objeto da classe Pessoa com nome \"João\" e idade 30.\n",
        "\n",
        "**pessoa1.imprimir_informacoes():** Chama o método imprimir_informacoes para exibir informações sobre a pessoa.\n",
        "\n",
        "**pessoa1.atualizar_idade(35):** Chama o método atualizar_idade para atualizar a idade da pessoa.\n",
        "\n",
        "**pessoa1.imprimir_informacoes():** Chama novamente o método imprimir_informacoes para exibir as informações atualizadas sobre a pessoa."
      ],
      "metadata": {
        "id": "j24-h24g4vD_"
      }
    },
    {
      "cell_type": "markdown",
      "source": [
        "Altere o código acima e adicione mais um parâmetro (email) e um método que altere o email da pessoa. Altere o objeto pessoa1 e atribua o email.\n",
        "\n",
        "Crie um novo objeto chamado pessoa2 e atribua o nome maria com os respectivos atributos. Logo após atualize o email\n",
        "\n",
        "Chame o metodo abaixo que mostre as informações iniciais dos objetos pessoa1 e pessoa2 e atualize as novas informações."
      ],
      "metadata": {
        "id": "YYa6LBbvqo33"
      }
    },
    {
      "cell_type": "markdown",
      "source": [
        "Vamos criar um exemplo mais simples de uma classe para representar a compra de um carro.\n",
        "\n",
        "Neste exemplo, a classe **CompraCarro** terá apenas um **método** para calcular o preço final do carro com base no preço base e nos impostos.\n",
        " Aqui está o código:"
      ],
      "metadata": {
        "id": "UH94jGrM5N-a"
      }
    },
    {
      "cell_type": "code",
      "source": [
        "class CompraCarro:\n",
        "    def __init__(self, preco_base, imposto):\n",
        "        self.preco_base = preco_base\n",
        "        self.imposto = imposto / 100  # Convertendo o imposto para porcentagem\n",
        "\n",
        "    def calcular_preco_final(self):\n",
        "        preco_final = self.preco_base * (1 + self.imposto)\n",
        "        return preco_final\n",
        "\n",
        "# Exemplo de uso\n",
        "preco_base = 25000  # Preço base do carro\n",
        "imposto = 10  # Porcentagem do imposto (10%)\n",
        "compra = CompraCarro(preco_base, imposto)\n",
        "\n",
        "print(\"Preço final do carro:\", compra.calcular_preco_final())\n"
      ],
      "metadata": {
        "colab": {
          "base_uri": "https://localhost:8080/"
        },
        "id": "QtycWir45Uym",
        "outputId": "25990cb8-d42d-4b7a-953a-8b7b583098d4"
      },
      "execution_count": 11,
      "outputs": [
        {
          "output_type": "stream",
          "name": "stdout",
          "text": [
            "Preço final do carro: 27500.000000000004\n"
          ]
        }
      ]
    },
    {
      "cell_type": "markdown",
      "source": [
        "**Explicação do código:**\n",
        "\n",
        "Criamos a classe CompraCarro com o método __init__ para inicializar os atributos preco_base e imposto.\n",
        "\n",
        "O método calcular_preco_final calcula o preço final do carro somando o preço base com o imposto.\n",
        "\n",
        "Criamos um objeto da classe CompraCarro com um preço base de $25.000 e um imposto de 10%.\n",
        "\n",
        "Imprimimos o preço final do carro usando o método calcular_preco_final.\n",
        "\n",
        "Este exemplo é mais simples e apenas demonstra como uma classe pode ser usada para realizar uma operação específica, que é calcular o preço final de um carro com base no preço base e no imposto."
      ],
      "metadata": {
        "id": "SXjrhOff5ZZO"
      }
    },
    {
      "cell_type": "markdown",
      "source": [
        "Aqui estão 10 exercícios que utilizam conceitos básicos de classe em Python:\n",
        "\n",
        "**1 - Classe Retângulo**\n",
        "\n",
        "Crie uma classe chamada Retangulo que tenha métodos para calcular a área e o perímetro do retângulo, dados os valores dos lados.\n",
        "\n",
        "**2 - Classe Conta Bancária**\n",
        "\n",
        "Crie uma classe chamada ContaBancaria que tenha métodos para depositar, sacar e verificar saldo.\n",
        "\n",
        "**3 - Classe Pessoa**\n",
        "Crie uma classe chamada Pessoa com atributos para nome, idade e gênero. Adicione métodos para atualizar esses atributos.\n",
        "\n",
        "**4 - Classe Livro**\n",
        "\n",
        "Crie uma classe chamada Livro com atributos para título, autor e número de páginas. Adicione métodos para exibir informações sobre o livro.\n",
        "\n",
        "**5 - Classe Triângulo**\n",
        "\n",
        "Crie uma classe chamada Triangulo com métodos para calcular a área e o perímetro do triângulo, dados os valores dos lados.\n",
        "\n",
        "**6 - Classe Animal**\n",
        "\n",
        "Crie uma classe chamada Animal com métodos para fazer o animal emitir som e para exibir informações básicas sobre o animal (por exemplo, espécie, cor).\n",
        "\n",
        "**7 - Classe Calendário**\n",
        "\n",
        "Crie uma classe chamada Calendario que tenha métodos para receber a data atual, verificar se é um ano bissexto e exibir o dia da semana.\n",
        "\n",
        "**8 - Classe Estudante**\n",
        "\n",
        "Crie uma classe chamada Estudante com atributos para nome, idade, nota e série. Adicione métodos para atualizar a nota e a série.\n",
        "\n",
        "**9 - Classe Funcionário**\n",
        "\n",
        "Crie uma classe chamada Funcionario com atributos para nome, cargo e salário. Adicione métodos para calcular o aumento de salário.\n",
        "\n",
        "**10 - Classe Produto**\n",
        "\n",
        "Crie uma classe chamada Produto com atributos para nome, preço e quantidade em estoque. Adicione métodos para atualizar o preço e a quantidade, e para exibir informações sobre o produto.\n",
        "\n",
        "\n",
        "Estes exercícios fornecem uma variedade de problemas que podem ser resolvidos utilizando conceitos básicos de classe em Python, como atributos, métodos e encapsulamento."
      ],
      "metadata": {
        "id": "IS5J8ZsM5ltf"
      }
    },
    {
      "cell_type": "code",
      "source": [
        "\"\"\"\n",
        "Exercicio 1 - Crie uma classe chamada Retangulo que tenha métodos para calcular a área\n",
        "e o perímetro do retângulo, dados os valores dos lados.\n",
        "\"\"\"\n",
        "\n",
        "class Retangulo:\n",
        "    def __init__(self, comprimento, largura):\n",
        "        self.comprimento = comprimento\n",
        "        self.largura = largura\n",
        "\n",
        "    def calcular_area(self):\n",
        "        return self.comprimento * self.largura\n",
        "\n",
        "    def calcular_perimetro(self):\n",
        "        return 2 * (self.comprimento + self.largura)\n",
        "\n",
        "# Exemplo de uso\n",
        "retangulo = Retangulo(5, 3)\n",
        "print(\"Área do retângulo:\", retangulo.calcular_area())\n",
        "print(\"Perímetro do retângulo:\", retangulo.calcular_perimetro())"
      ],
      "metadata": {
        "colab": {
          "base_uri": "https://localhost:8080/"
        },
        "id": "T6ar0D-Qizpd",
        "outputId": "eb82cd51-4938-4fbb-ae13-fa20a4289e67"
      },
      "execution_count": 11,
      "outputs": [
        {
          "output_type": "stream",
          "name": "stdout",
          "text": [
            "Área do retângulo: 15\n",
            "Perímetro do retângulo: 16\n"
          ]
        }
      ]
    }
  ]
}