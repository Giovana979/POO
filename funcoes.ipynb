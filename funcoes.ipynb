{
  "cells": [
    {
      "cell_type": "markdown",
      "metadata": {
        "id": "view-in-github",
        "colab_type": "text"
      },
      "source": [
        "<a href=\"https://colab.research.google.com/github/WellingtonRoque/python/blob/main/funcoes.ipynb\" target=\"_parent\"><img src=\"https://colab.research.google.com/assets/colab-badge.svg\" alt=\"Open In Colab\"/></a>"
      ]
    },
    {
      "cell_type": "markdown",
      "metadata": {
        "id": "sXRdwVrsmI9H"
      },
      "source": [
        "**FUNÇÔES** - Em Python, uma função é um bloco de código reutilizável que realiza uma tarefa específica. As funções são utilizadas para organizar e modularizar o código, permitindo que partes do programa sejam escritas uma vez e chamadas várias vezes em diferentes partes do código. Elas ajudam a tornar o código mais legível, facilitam a manutenção e reduzem a duplicação de código."
      ]
    },
    {
      "cell_type": "markdown",
      "metadata": {
        "id": "9_Pvcs_mmbX_"
      },
      "source": [
        "**Principais características das funções em Python:**\n",
        "\n",
        "**Declaração de Funções:**\n",
        "\n",
        "As funções são declaradas usando a palavra-chave def, seguida pelo nome da função e, opcionalmente, parâmetros entre parênteses.\n",
        "**Exemplo:**"
      ]
    },
    {
      "cell_type": "code",
      "execution_count": null,
      "metadata": {
        "colab": {
          "base_uri": "https://localhost:8080/"
        },
        "id": "Yr495JU4min_",
        "outputId": "4f6c049c-1a7a-4df0-b03d-cec2d3120455"
      },
      "outputs": [
        {
          "name": "stdout",
          "output_type": "stream",
          "text": [
            "Olá, wroque!\n"
          ]
        }
      ],
      "source": [
        "def saudacao(nome):\n",
        "    print(f\"Olá, {nome}!\")\n",
        "\n",
        "saudacao(\"wroque\")"
      ]
    },
    {
      "cell_type": "markdown",
      "metadata": {
        "id": "Dwmplshrm6Wv"
      },
      "source": [
        "**Parâmetros**\n",
        "\n",
        "Parâmetros são valores que a função recebe como entrada. Uma função pode ter zero ou mais parâmetros. Os parâmetros são especificados entre os parênteses durante a declaração da função.\n",
        "\n",
        "**Retorno de Valores**\n",
        "\n",
        "Uma função pode retornar um valor usando a palavra-chave return. Se não houver declaração de retorno, a função retorna None implicitamente.\n",
        "\n",
        "Exemplo:"
      ]
    },
    {
      "cell_type": "code",
      "execution_count": null,
      "metadata": {
        "colab": {
          "base_uri": "https://localhost:8080/"
        },
        "id": "AopR0chDm_zA",
        "outputId": "4ce4a109-7080-4797-ece3-c8ba498e8ef9"
      },
      "outputs": [
        {
          "name": "stdout",
          "output_type": "stream",
          "text": [
            "Soma =  8\n"
          ]
        }
      ],
      "source": [
        "def soma(a, b):\n",
        "    return a + b\n",
        "\n",
        "print(\"Soma = \",soma(3,5))"
      ]
    },
    {
      "cell_type": "markdown",
      "metadata": {
        "id": "YNjic_ARnaq_"
      },
      "source": [
        "Exemplo"
      ]
    },
    {
      "cell_type": "code",
      "execution_count": null,
      "metadata": {
        "colab": {
          "base_uri": "https://localhost:8080/"
        },
        "id": "DDX6gg8vndQO",
        "outputId": "e22e17c7-95bc-44ff-dfde-62708b46009f"
      },
      "outputs": [
        {
          "name": "stdout",
          "output_type": "stream",
          "text": [
            "Quadrado =  9\n"
          ]
        }
      ],
      "source": [
        "def quadrado(numero):\n",
        "    return numero ** 2\n",
        "\n",
        "print(\"Quadrado = \", quadrado(3))"
      ]
    },
    {
      "cell_type": "markdown",
      "metadata": {
        "id": "dWDXLhFVnvhf"
      },
      "source": [
        "**Escopo de Variáveis**\n",
        "\n",
        "As variáveis definidas dentro de uma função têm escopo local, o que significa que elas só podem ser acessadas dentro dessa função. Variáveis fora da função têm escopo global.\n",
        "\n",
        "Exemplo:"
      ]
    },
    {
      "cell_type": "code",
      "execution_count": 13,
      "metadata": {
        "colab": {
          "base_uri": "https://localhost:8080/"
        },
        "id": "E6iMhRR5nyQ-",
        "outputId": "3de366b4-fd5e-4f9e-e31a-eb9b83e17e39"
      },
      "outputs": [
        {
          "output_type": "stream",
          "name": "stdout",
          "text": [
            "10\n"
          ]
        }
      ],
      "source": [
        "def funcao_local():\n",
        "    x = 10\n",
        "    print(x)\n",
        "\n",
        "funcao_local()\n",
        "#print(x)   #a variavel x so existe dentro da funcao"
      ]
    },
    {
      "cell_type": "markdown",
      "source": [
        "**Passando uma lista para função**\n",
        "\n",
        "Para passar uma lista como argumento para uma função em Python, você pode simplesmente incluir a lista entre os parênteses da função quando a chama. A lista será tratada como um objeto único e estará disponível dentro da função para manipulação.\n",
        "Aqui está um exemplo simples:\n"
      ],
      "metadata": {
        "id": "RRNh6GBCpaI-"
      }
    },
    {
      "cell_type": "code",
      "source": [
        "def processar_lista(lista):\n",
        "    for elemento in lista:\n",
        "        print(elemento)\n",
        "\n",
        "# Exemplo de chamada da função com uma lista\n",
        "minha_lista = [1, 2, 3, 4, 5]\n",
        "processar_lista(minha_lista)"
      ],
      "metadata": {
        "colab": {
          "base_uri": "https://localhost:8080/"
        },
        "id": "rQT9ISfDpinH",
        "outputId": "23ff47c2-3dd2-46cc-cc85-fc3d0b0ec6fa"
      },
      "execution_count": 14,
      "outputs": [
        {
          "output_type": "stream",
          "name": "stdout",
          "text": [
            "1\n",
            "2\n",
            "3\n",
            "4\n",
            "5\n"
          ]
        }
      ]
    },
    {
      "cell_type": "markdown",
      "source": [
        "No exemplo acima, a função processar_lista aceita uma lista como parâmetro e a percorre, imprimindo cada elemento. A lista minha_lista é passada como argumento ao chamar a função.\n",
        "\n",
        "Além disso, você pode modificar a lista dentro da função, já que as listas em Python são mutáveis. Qualquer alteração feita na lista dentro da função será refletida fora dela.\n",
        "\n",
        "Exemplo de modificação da lista dentro da função:"
      ],
      "metadata": {
        "id": "Fxp0LYWxpnHG"
      }
    },
    {
      "cell_type": "code",
      "source": [
        "def dobrar_elementos(lista):\n",
        "    for i in range(len(lista)):\n",
        "        lista[i] *= 2\n",
        "\n",
        "minha_lista = [1, 2, 3, 4, 5]\n",
        "dobrar_elementos(minha_lista)\n",
        "print(minha_lista)  # Saída: [2, 4, 6, 8, 10]"
      ],
      "metadata": {
        "colab": {
          "base_uri": "https://localhost:8080/"
        },
        "id": "jfKpTzUSpogu",
        "outputId": "e920fcc0-7b35-4d17-cb01-1e96d1083d40"
      },
      "execution_count": 15,
      "outputs": [
        {
          "output_type": "stream",
          "name": "stdout",
          "text": [
            "[2, 4, 6, 8, 10]\n"
          ]
        }
      ]
    },
    {
      "cell_type": "markdown",
      "source": [
        "Neste exemplo, a função dobrar_elementos multiplica cada elemento da lista por 2, e essa modificação é refletida na lista original fora da função.\n",
        "\n",
        "Lembre-se de que, ao passar uma lista como argumento para uma função, você está passando uma referência para a lista. Portanto, as alterações feitas dentro da função afetarão a lista original, não uma cópia dela. Se precisar evitar alterações na lista original, considere criar uma cópia antes de passá-la como argumento."
      ],
      "metadata": {
        "id": "Qa8q_HnVrRZd"
      }
    }
  ],
  "metadata": {
    "colab": {
      "provenance": [],
      "authorship_tag": "ABX9TyPdc7NKihHbG0RtQGQnMFxr",
      "include_colab_link": true
    },
    "kernelspec": {
      "display_name": "Python 3",
      "name": "python3"
    },
    "language_info": {
      "name": "python"
    }
  },
  "nbformat": 4,
  "nbformat_minor": 0
}